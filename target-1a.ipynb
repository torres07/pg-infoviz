{
 "cells": [
  {
   "cell_type": "code",
   "execution_count": 2,
   "metadata": {},
   "outputs": [],
   "source": [
    "import numpy as np\n",
    "import pandas as pd\n",
    "from matplotlib import pyplot as plt\n",
    "import matplotlib.ticker as mtick"
   ]
  },
  {
   "cell_type": "code",
   "execution_count": 3,
   "metadata": {
    "scrolled": true
   },
   "outputs": [
    {
     "data": {
      "text/html": [
       "<div>\n",
       "<style scoped>\n",
       "    .dataframe tbody tr th:only-of-type {\n",
       "        vertical-align: middle;\n",
       "    }\n",
       "\n",
       "    .dataframe tbody tr th {\n",
       "        vertical-align: top;\n",
       "    }\n",
       "\n",
       "    .dataframe thead th {\n",
       "        text-align: right;\n",
       "    }\n",
       "</style>\n",
       "<table border=\"1\" class=\"dataframe\">\n",
       "  <thead>\n",
       "    <tr style=\"text-align: right;\">\n",
       "      <th></th>\n",
       "      <th>Country Name</th>\n",
       "      <th>Country Code</th>\n",
       "      <th>Indicator Name</th>\n",
       "      <th>Indicator Code</th>\n",
       "      <th>1960</th>\n",
       "      <th>1961</th>\n",
       "      <th>1962</th>\n",
       "      <th>1963</th>\n",
       "      <th>1964</th>\n",
       "      <th>1965</th>\n",
       "      <th>...</th>\n",
       "      <th>2010</th>\n",
       "      <th>2011</th>\n",
       "      <th>2012</th>\n",
       "      <th>2013</th>\n",
       "      <th>2014</th>\n",
       "      <th>2015</th>\n",
       "      <th>2016</th>\n",
       "      <th>2017</th>\n",
       "      <th>2018</th>\n",
       "      <th>Unnamed: 63</th>\n",
       "    </tr>\n",
       "  </thead>\n",
       "  <tbody>\n",
       "    <tr>\n",
       "      <th>0</th>\n",
       "      <td>Aruba</td>\n",
       "      <td>ABW</td>\n",
       "      <td>Population, total</td>\n",
       "      <td>SP.POP.TOTL</td>\n",
       "      <td>54211</td>\n",
       "      <td>55438</td>\n",
       "      <td>56225</td>\n",
       "      <td>56695</td>\n",
       "      <td>57032</td>\n",
       "      <td>57360</td>\n",
       "      <td>...</td>\n",
       "      <td>101669</td>\n",
       "      <td>102053</td>\n",
       "      <td>102577</td>\n",
       "      <td>103187</td>\n",
       "      <td>103795</td>\n",
       "      <td>104341</td>\n",
       "      <td>104822</td>\n",
       "      <td>105264</td>\n",
       "      <td>NaN</td>\n",
       "      <td>NaN</td>\n",
       "    </tr>\n",
       "    <tr>\n",
       "      <th>1</th>\n",
       "      <td>Afghanistan</td>\n",
       "      <td>AFG</td>\n",
       "      <td>Population, total</td>\n",
       "      <td>SP.POP.TOTL</td>\n",
       "      <td>8996351</td>\n",
       "      <td>9166764</td>\n",
       "      <td>9345868</td>\n",
       "      <td>9533954</td>\n",
       "      <td>9731361</td>\n",
       "      <td>9938414</td>\n",
       "      <td>...</td>\n",
       "      <td>28803167</td>\n",
       "      <td>29708599</td>\n",
       "      <td>30696958</td>\n",
       "      <td>31731688</td>\n",
       "      <td>32758020</td>\n",
       "      <td>33736494</td>\n",
       "      <td>34656032</td>\n",
       "      <td>35530081</td>\n",
       "      <td>NaN</td>\n",
       "      <td>NaN</td>\n",
       "    </tr>\n",
       "    <tr>\n",
       "      <th>2</th>\n",
       "      <td>Angola</td>\n",
       "      <td>AGO</td>\n",
       "      <td>Population, total</td>\n",
       "      <td>SP.POP.TOTL</td>\n",
       "      <td>5643182</td>\n",
       "      <td>5753024</td>\n",
       "      <td>5866061</td>\n",
       "      <td>5980417</td>\n",
       "      <td>6093321</td>\n",
       "      <td>6203299</td>\n",
       "      <td>...</td>\n",
       "      <td>23369131</td>\n",
       "      <td>24218565</td>\n",
       "      <td>25096150</td>\n",
       "      <td>25998340</td>\n",
       "      <td>26920466</td>\n",
       "      <td>27859305</td>\n",
       "      <td>28813463</td>\n",
       "      <td>29784193</td>\n",
       "      <td>NaN</td>\n",
       "      <td>NaN</td>\n",
       "    </tr>\n",
       "    <tr>\n",
       "      <th>3</th>\n",
       "      <td>Albania</td>\n",
       "      <td>ALB</td>\n",
       "      <td>Population, total</td>\n",
       "      <td>SP.POP.TOTL</td>\n",
       "      <td>1608800</td>\n",
       "      <td>1659800</td>\n",
       "      <td>1711319</td>\n",
       "      <td>1762621</td>\n",
       "      <td>1814135</td>\n",
       "      <td>1864791</td>\n",
       "      <td>...</td>\n",
       "      <td>2913021</td>\n",
       "      <td>2905195</td>\n",
       "      <td>2900401</td>\n",
       "      <td>2895092</td>\n",
       "      <td>2889104</td>\n",
       "      <td>2880703</td>\n",
       "      <td>2876101</td>\n",
       "      <td>2873457</td>\n",
       "      <td>NaN</td>\n",
       "      <td>NaN</td>\n",
       "    </tr>\n",
       "    <tr>\n",
       "      <th>4</th>\n",
       "      <td>Andorra</td>\n",
       "      <td>AND</td>\n",
       "      <td>Population, total</td>\n",
       "      <td>SP.POP.TOTL</td>\n",
       "      <td>13411</td>\n",
       "      <td>14375</td>\n",
       "      <td>15370</td>\n",
       "      <td>16412</td>\n",
       "      <td>17469</td>\n",
       "      <td>18549</td>\n",
       "      <td>...</td>\n",
       "      <td>84449</td>\n",
       "      <td>83751</td>\n",
       "      <td>82431</td>\n",
       "      <td>80788</td>\n",
       "      <td>79223</td>\n",
       "      <td>78014</td>\n",
       "      <td>77281</td>\n",
       "      <td>76965</td>\n",
       "      <td>NaN</td>\n",
       "      <td>NaN</td>\n",
       "    </tr>\n",
       "  </tbody>\n",
       "</table>\n",
       "<p>5 rows × 64 columns</p>\n",
       "</div>"
      ],
      "text/plain": [
       "  Country Name Country Code     Indicator Name Indicator Code     1960  \\\n",
       "0        Aruba          ABW  Population, total    SP.POP.TOTL    54211   \n",
       "1  Afghanistan          AFG  Population, total    SP.POP.TOTL  8996351   \n",
       "2       Angola          AGO  Population, total    SP.POP.TOTL  5643182   \n",
       "3      Albania          ALB  Population, total    SP.POP.TOTL  1608800   \n",
       "4      Andorra          AND  Population, total    SP.POP.TOTL    13411   \n",
       "\n",
       "      1961     1962     1963     1964     1965  ...      2010      2011  \\\n",
       "0    55438    56225    56695    57032    57360  ...    101669    102053   \n",
       "1  9166764  9345868  9533954  9731361  9938414  ...  28803167  29708599   \n",
       "2  5753024  5866061  5980417  6093321  6203299  ...  23369131  24218565   \n",
       "3  1659800  1711319  1762621  1814135  1864791  ...   2913021   2905195   \n",
       "4    14375    15370    16412    17469    18549  ...     84449     83751   \n",
       "\n",
       "       2012      2013      2014      2015      2016      2017 2018 Unnamed: 63  \n",
       "0    102577    103187    103795    104341    104822    105264  NaN         NaN  \n",
       "1  30696958  31731688  32758020  33736494  34656032  35530081  NaN         NaN  \n",
       "2  25096150  25998340  26920466  27859305  28813463  29784193  NaN         NaN  \n",
       "3   2900401   2895092   2889104   2880703   2876101   2873457  NaN         NaN  \n",
       "4     82431     80788     79223     78014     77281     76965  NaN         NaN  \n",
       "\n",
       "[5 rows x 64 columns]"
      ]
     },
     "execution_count": 3,
     "metadata": {},
     "output_type": "execute_result"
    }
   ],
   "source": [
    "data_population = pd.read_csv('data/POP_BY_COUNTRY/API_SP.POP.TOTL_DS2_en_csv_v2_10515200.csv', dtype='unicode', skiprows=4)\n",
    "data_population.head()"
   ]
  },
  {
   "cell_type": "code",
   "execution_count": 4,
   "metadata": {},
   "outputs": [
    {
     "data": {
      "text/html": [
       "<div>\n",
       "<style scoped>\n",
       "    .dataframe tbody tr th:only-of-type {\n",
       "        vertical-align: middle;\n",
       "    }\n",
       "\n",
       "    .dataframe tbody tr th {\n",
       "        vertical-align: top;\n",
       "    }\n",
       "\n",
       "    .dataframe thead th {\n",
       "        text-align: right;\n",
       "    }\n",
       "</style>\n",
       "<table border=\"1\" class=\"dataframe\">\n",
       "  <thead>\n",
       "    <tr style=\"text-align: right;\">\n",
       "      <th></th>\n",
       "      <th>Country Name</th>\n",
       "      <th>Country Code</th>\n",
       "      <th>Indicator Name</th>\n",
       "      <th>Indicator Code</th>\n",
       "      <th>1960</th>\n",
       "      <th>1961</th>\n",
       "      <th>1962</th>\n",
       "      <th>1963</th>\n",
       "      <th>1964</th>\n",
       "      <th>1965</th>\n",
       "      <th>...</th>\n",
       "      <th>2010</th>\n",
       "      <th>2011</th>\n",
       "      <th>2012</th>\n",
       "      <th>2013</th>\n",
       "      <th>2014</th>\n",
       "      <th>2015</th>\n",
       "      <th>2016</th>\n",
       "      <th>2017</th>\n",
       "      <th>2018</th>\n",
       "      <th>Unnamed: 63</th>\n",
       "    </tr>\n",
       "  </thead>\n",
       "  <tbody>\n",
       "    <tr>\n",
       "      <th>27</th>\n",
       "      <td>Brazil</td>\n",
       "      <td>BRA</td>\n",
       "      <td>Population, total</td>\n",
       "      <td>SP.POP.TOTL</td>\n",
       "      <td>72207554</td>\n",
       "      <td>74351763</td>\n",
       "      <td>76573248</td>\n",
       "      <td>78854019</td>\n",
       "      <td>81168654</td>\n",
       "      <td>83498020</td>\n",
       "      <td>...</td>\n",
       "      <td>196796269</td>\n",
       "      <td>198686688</td>\n",
       "      <td>200560983</td>\n",
       "      <td>202408632</td>\n",
       "      <td>204213133</td>\n",
       "      <td>205962108</td>\n",
       "      <td>207652865</td>\n",
       "      <td>209288278</td>\n",
       "      <td>NaN</td>\n",
       "      <td>NaN</td>\n",
       "    </tr>\n",
       "  </tbody>\n",
       "</table>\n",
       "<p>1 rows × 64 columns</p>\n",
       "</div>"
      ],
      "text/plain": [
       "   Country Name Country Code     Indicator Name Indicator Code      1960  \\\n",
       "27       Brazil          BRA  Population, total    SP.POP.TOTL  72207554   \n",
       "\n",
       "        1961      1962      1963      1964      1965  ...       2010  \\\n",
       "27  74351763  76573248  78854019  81168654  83498020  ...  196796269   \n",
       "\n",
       "         2011       2012       2013       2014       2015       2016  \\\n",
       "27  198686688  200560983  202408632  204213133  205962108  207652865   \n",
       "\n",
       "         2017 2018 Unnamed: 63  \n",
       "27  209288278  NaN         NaN  \n",
       "\n",
       "[1 rows x 64 columns]"
      ]
     },
     "execution_count": 4,
     "metadata": {},
     "output_type": "execute_result"
    }
   ],
   "source": [
    "data_population[data_population['Country Name'] == 'Brazil']"
   ]
  },
  {
   "cell_type": "code",
   "execution_count": 53,
   "metadata": {
    "scrolled": true
   },
   "outputs": [
    {
     "data": {
      "text/html": [
       "<div>\n",
       "<style scoped>\n",
       "    .dataframe tbody tr th:only-of-type {\n",
       "        vertical-align: middle;\n",
       "    }\n",
       "\n",
       "    .dataframe tbody tr th {\n",
       "        vertical-align: top;\n",
       "    }\n",
       "\n",
       "    .dataframe thead th {\n",
       "        text-align: right;\n",
       "    }\n",
       "</style>\n",
       "<table border=\"1\" class=\"dataframe\">\n",
       "  <thead>\n",
       "    <tr style=\"text-align: right;\">\n",
       "      <th></th>\n",
       "      <th>Entity</th>\n",
       "      <th>Code</th>\n",
       "      <th>Year</th>\n",
       "      <th>Number of people not in extreme poverty (people)</th>\n",
       "      <th>Number of people living in extreme poverty (people)</th>\n",
       "      <th>Number of people</th>\n",
       "    </tr>\n",
       "  </thead>\n",
       "  <tbody>\n",
       "    <tr>\n",
       "      <th>10</th>\n",
       "      <td>World</td>\n",
       "      <td>OWID_WRL</td>\n",
       "      <td>1981</td>\n",
       "      <td>2.61</td>\n",
       "      <td>1.91</td>\n",
       "      <td>4.52</td>\n",
       "    </tr>\n",
       "    <tr>\n",
       "      <th>11</th>\n",
       "      <td>World</td>\n",
       "      <td>OWID_WRL</td>\n",
       "      <td>1984</td>\n",
       "      <td>2.90</td>\n",
       "      <td>1.87</td>\n",
       "      <td>4.77</td>\n",
       "    </tr>\n",
       "    <tr>\n",
       "      <th>12</th>\n",
       "      <td>World</td>\n",
       "      <td>OWID_WRL</td>\n",
       "      <td>1987</td>\n",
       "      <td>3.25</td>\n",
       "      <td>1.78</td>\n",
       "      <td>5.03</td>\n",
       "    </tr>\n",
       "    <tr>\n",
       "      <th>13</th>\n",
       "      <td>World</td>\n",
       "      <td>OWID_WRL</td>\n",
       "      <td>1990</td>\n",
       "      <td>3.41</td>\n",
       "      <td>1.90</td>\n",
       "      <td>5.31</td>\n",
       "    </tr>\n",
       "    <tr>\n",
       "      <th>14</th>\n",
       "      <td>World</td>\n",
       "      <td>OWID_WRL</td>\n",
       "      <td>1993</td>\n",
       "      <td>3.68</td>\n",
       "      <td>1.89</td>\n",
       "      <td>5.57</td>\n",
       "    </tr>\n",
       "  </tbody>\n",
       "</table>\n",
       "</div>"
      ],
      "text/plain": [
       "   Entity      Code  Year  Number of people not in extreme poverty (people)  \\\n",
       "10  World  OWID_WRL  1981                                              2.61   \n",
       "11  World  OWID_WRL  1984                                              2.90   \n",
       "12  World  OWID_WRL  1987                                              3.25   \n",
       "13  World  OWID_WRL  1990                                              3.41   \n",
       "14  World  OWID_WRL  1993                                              3.68   \n",
       "\n",
       "    Number of people living in extreme poverty (people)  Number of people  \n",
       "10                                               1.91                4.52  \n",
       "11                                               1.87                4.77  \n",
       "12                                               1.78                5.03  \n",
       "13                                               1.90                5.31  \n",
       "14                                               1.89                5.57  "
      ]
     },
     "execution_count": 53,
     "metadata": {},
     "output_type": "execute_result"
    }
   ],
   "source": [
    "data_poverty = pd.read_csv('data/OUR_WORLD_IN_DATA/world-population-in-extreme-poverty-absolute.csv', dtype='unicode')\n",
    "data_poverty[['Year', 'Number of people not in extreme poverty (people)', 'Number of people living in extreme poverty (people)']] = data_poverty[['Year', 'Number of people not in extreme poverty (people)', 'Number of people living in extreme poverty (people)']].apply(pd.to_numeric)\n",
    "data_poverty = data_poverty.sort_values(by=['Year'])\n",
    "data_poverty = data_poverty[data_poverty['Year'] > 1980]\n",
    "data_poverty['Number of people'] = data_poverty['Number of people not in extreme poverty (people)'] + data_poverty['Number of people living in extreme poverty (people)']\n",
    "data_poverty['Number of people not in extreme poverty (people)'] = data_poverty['Number of people not in extreme poverty (people)'] / 10**9\n",
    "data_poverty['Number of people living in extreme poverty (people)'] = data_poverty['Number of people living in extreme poverty (people)'] / 10**9\n",
    "data_poverty['Number of people'] = data_poverty['Number of people'] / 10**9\n",
    "data_poverty = data_poverty.round(2)\n",
    "data_poverty.head()"
   ]
  },
  {
   "cell_type": "markdown",
   "metadata": {},
   "source": [
    "# Scatter plot"
   ]
  },
  {
   "cell_type": "code",
   "execution_count": 54,
   "metadata": {},
   "outputs": [
    {
     "data": {
      "image/png": "[encoded data removed]",
      "text/plain": [
       "<Figure size 576x432 with 1 Axes>"
      ]
     },
     "metadata": {},
     "output_type": "display_data"
    }
   ],
   "source": [
    "plt.figure(figsize=(8, 6))\n",
    "plt.plot(data_poverty['Year'], data_poverty['Number of people'])\n",
    "plt.plot(data_poverty['Year'], data_poverty['Number of people not in extreme poverty (people)'])\n",
    "plt.plot(data_poverty['Year'], data_poverty['Number of people living in extreme poverty (people)'])\n",
    "plt.xticks(np.concatenate((np.arange(1981, 2012, step=6), np.array([2015])), axis=0))\n",
    "plt.xlabel('Years', fontsize=12)\n",
    "plt.ylabel('Billions', fontsize=12)\n",
    "plt.legend(['Number of people', 'Number of people not in extreme poverty', 'Number of people living in extreme poverty'], loc='upper left')\n",
    "plt.show()"
   ]
  },
  {
   "cell_type": "markdown",
   "metadata": {},
   "source": [
    "# Area chart"
   ]
  },
  {
   "cell_type": "code",
   "execution_count": 55,
   "metadata": {
    "scrolled": false
   },
   "outputs": [
    {
     "data": {
      "image/png": "[encoded data removed]",
      "text/plain": [
       "<Figure size 576x432 with 1 Axes>"
      ]
     },
     "metadata": {},
     "output_type": "display_data"
    }
   ],
   "source": [
    "plt.figure(figsize=(8, 6))\n",
    "plt.fill_between(data_poverty['Year'], data_poverty['Number of people'])\n",
    "plt.fill_between(data_poverty['Year'], data_poverty['Number of people living in extreme poverty (people)'])\n",
    "plt.xticks(np.concatenate((np.arange(1981, 2012, step=6), np.array([2015])), axis=0))\n",
    "plt.xlabel('Years', fontsize=12)\n",
    "plt.ylabel('Billions', fontsize=12)\n",
    "plt.legend(['Number of people', 'Number of people living in extreme poverty'], loc='upper left')\n",
    "plt.show()"
   ]
  },
  {
   "cell_type": "code",
   "execution_count": 56,
   "metadata": {},
   "outputs": [],
   "source": [
    "# relative data to build 100% stacked \n",
    "data_relative = data_poverty[['Number of people not in extreme poverty (people)', 'Number of people living in extreme poverty (people)']]\n",
    "data_relative = data_relative.divide(data_relative.sum(axis=1), axis=0)"
   ]
  },
  {
   "cell_type": "markdown",
   "metadata": {},
   "source": [
    "# Stacked area chart"
   ]
  },
  {
   "cell_type": "code",
   "execution_count": 57,
   "metadata": {
    "scrolled": false
   },
   "outputs": [
    {
     "data": {
      "image/png": "[encoded data removed]",
      "text/plain": [
       "<Figure size 576x432 with 1 Axes>"
      ]
     },
     "metadata": {},
     "output_type": "display_data"
    }
   ],
   "source": [
    "fig, ax = plt.subplots(figsize=(8, 6))\n",
    "\n",
    "# ax.stackplot(data_poverty['Year'],  data_relative['Number of people not in extreme poverty (people)'],  data_relative['Number of people living in extreme poverty (people)'], labels=['Number of people not in extreme poverty', 'Number of people living in extreme poverty'])\n",
    "ax.stackplot(data_poverty['Year'], data_relative['Number of people living in extreme poverty (people)'],  data_relative['Number of people not in extreme poverty (people)'], labels=['Number of people living in extreme poverty', 'Number of people not in extreme poverty'])\n",
    "ax.margins(0,0)\n",
    "ax.set_xticks(np.concatenate((np.arange(1981, 2012, step=6), np.array([2015])), axis=0))\n",
    "ax.yaxis.set_major_formatter(mtick.PercentFormatter(1.0))\n",
    "\n",
    "plt.xlabel('Years', fontsize=12)\n",
    "plt.legend(loc='upper left')\n",
    "plt.show()"
   ]
  },
  {
   "cell_type": "markdown",
   "metadata": {},
   "source": [
    "# Iterative visualizations"
   ]
  },
  {
   "cell_type": "code",
   "execution_count": 135,
   "metadata": {},
   "outputs": [
    {
     "data": {
      "text/html": [
       "<iframe id=\"igraph\" scrolling=\"no\" style=\"border:none;\" seamless=\"seamless\" src=\"https://plot.ly/~torres07/2.embed\" height=\"525px\" width=\"100%\"></iframe>"
      ],
      "text/plain": [
       "<chart_studio.tools.PlotlyDisplay object>"
      ]
     },
     "execution_count": 135,
     "metadata": {},
     "output_type": "execute_result"
    }
   ],
   "source": [
    "import plotly.plotly as py\n",
    "import plotly.graph_objs as go\n",
    "\n",
    "trace1 = go.Scatter(\n",
    "    x=data_poverty['Year'],\n",
    "    y=data_poverty['Number of people living in extreme poverty (people)'],\n",
    "    stackgroup='one',\n",
    "    mode='none',\n",
    "    name='Living in extreme poverty',\n",
    "    hoverinfo='y'\n",
    ")\n",
    "\n",
    "trace2 = go.Scatter(\n",
    "    x=data_poverty['Year'],\n",
    "    y=data_poverty['Number of people not in extreme poverty (people)'],\n",
    "    stackgroup='one',\n",
    "    mode='none',\n",
    "    name='Not in extreme poverty ',\n",
    "    hoverinfo='y'\n",
    ")\n",
    "\n",
    "data = [trace1, trace2]\n",
    "\n",
    "layout = go.Layout(\n",
    "    xaxis = go.layout.XAxis(\n",
    "        tickmode='array',\n",
    "        tickvals=np.concatenate((np.arange(1981, 2012, step=6), np.array([2015])), axis=0),\n",
    "        title='Years',\n",
    "        ticklen=5\n",
    "    ),\n",
    "    yaxis = go.layout.YAxis(\n",
    "        title='Population (billion)',\n",
    "        ticksuffix='B ',       \n",
    "    ),\n",
    "    title='World population living in extreme poverty, 1981-2015',\n",
    "    annotations=[\n",
    "        dict(\n",
    "        text='Extreme poverty is defined as living on less than $1.90 international per day',\n",
    "        font=dict(size=13),\n",
    "        showarrow=False,\n",
    "        x=0.6,\n",
    "        y=1.1,\n",
    "        xref='paper',\n",
    "        yref='paper'\n",
    "\n",
    "        )\n",
    "    ]\n",
    ")\n",
    "\n",
    "fig = go.Figure(\n",
    "    data = data,\n",
    "    layout = layout\n",
    ")\n",
    "\n",
    "py.iplot(fig, filename='stacked-area-char')"
   ]
  },
  {
   "cell_type": "code",
   "execution_count": 133,
   "metadata": {},
   "outputs": [
    {
     "data": {
      "text/html": [
       "<iframe id=\"igraph\" scrolling=\"no\" style=\"border:none;\" seamless=\"seamless\" src=\"https://plot.ly/~torres07/4.embed\" height=\"525px\" width=\"100%\"></iframe>"
      ],
      "text/plain": [
       "<chart_studio.tools.PlotlyDisplay object>"
      ]
     },
     "execution_count": 133,
     "metadata": {},
     "output_type": "execute_result"
    }
   ],
   "source": [
    "trace1 = go.Scatter(\n",
    "    x=data_poverty['Year'],\n",
    "    y=data_relative['Number of people living in extreme poverty (people)'],\n",
    "    name='Living in extreme poverty',\n",
    "    stackgroup='one',\n",
    "    mode='none',\n",
    "    hoverinfo='y'\n",
    ")\n",
    "\n",
    "trace2 = go.Scatter(\n",
    "    x=data_poverty['Year'],\n",
    "    y=data_relative['Number of people not in extreme poverty (people)'],\n",
    "    name='Not in extreme poverty',\n",
    "    stackgroup='one',\n",
    "    mode='none',\n",
    "    hoverinfo='y'\n",
    ")\n",
    "\n",
    "data = [trace1, trace2]\n",
    "\n",
    "layout = go.Layout(\n",
    "    xaxis = go.layout.XAxis(\n",
    "        tickmode='array',\n",
    "        tickvals=np.concatenate((np.arange(1981, 2012, step=6), np.array([2015])), axis=0),\n",
    "        title='Years',\n",
    "        ticklen=5,\n",
    "    ),\n",
    "    yaxis=go.layout.YAxis(\n",
    "        tickformat=',.0%',\n",
    "        title='Population (%)',\n",
    "    ),\n",
    "    title='World population living in extreme poverty, 1981-2015',\n",
    "    annotations=[\n",
    "        dict(\n",
    "            text='Extreme poverty is defined as living on less than $1.90 international per day',\n",
    "            font=dict(size=13),\n",
    "            showarrow=False,\n",
    "            x=0.6,\n",
    "            y=1.1,\n",
    "            xref='paper',\n",
    "            yref='paper'\n",
    "            \n",
    "        )\n",
    "    ]\n",
    ")\n",
    "\n",
    "fig = go.Figure(\n",
    "    data = data,\n",
    "    layout = layout,\n",
    ")\n",
    "\n",
    "py.iplot(fig, filename='stacked-relative-area-char')"
   ]
  },
  {
   "cell_type": "code",
   "execution_count": 102,
   "metadata": {},
   "outputs": [
    {
     "data": {
      "text/html": [
       "<iframe id=\"igraph\" scrolling=\"no\" style=\"border:none;\" seamless=\"seamless\" src=\"https://plot.ly/~torres07/6.embed\" height=\"525px\" width=\"100%\"></iframe>"
      ],
      "text/plain": [
       "<chart_studio.tools.PlotlyDisplay object>"
      ]
     },
     "execution_count": 102,
     "metadata": {},
     "output_type": "execute_result"
    }
   ],
   "source": [
    "trace = go.Scatter(\n",
    "    x=data_poverty['Year'],\n",
    "    y=data_poverty['Number of people'],\n",
    "    name='Number of people',\n",
    "    hoverinfo='y'\n",
    ")\n",
    "\n",
    "trace1 = go.Scatter(\n",
    "    x = data_poverty['Year'],\n",
    "    y = data_poverty['Number of people not in extreme poverty (people)'],\n",
    "    name='Number of people not in extreme poverty',\n",
    "    hoverinfo='y'\n",
    ")\n",
    "\n",
    "trace2 = go.Scatter(\n",
    "    x = data_poverty['Year'],\n",
    "    y = data_poverty['Number of people living in extreme poverty (people)'],\n",
    "    name='Number of people living in extreme poverty',\n",
    "    hoverinfo='y'\n",
    ")\n",
    "\n",
    "data = [trace, trace1, trace2]\n",
    "\n",
    "layout = go.Layout(\n",
    "    xaxis = go.layout.XAxis(\n",
    "        tickmode='array',\n",
    "        tickvals=np.concatenate((np.arange(1981, 2012, step=6), np.array([2015])), axis=0),\n",
    "        title='Years',\n",
    "    ),\n",
    "    yaxis = go.layout.YAxis(\n",
    "        title='Population (billion)',\n",
    "        ticksuffix='B ',       \n",
    "    ),\n",
    ")\n",
    "\n",
    "fig = go.Figure(\n",
    "    data = data,\n",
    "    layout = layout\n",
    ")\n",
    "\n",
    "py.iplot(fig, filename='basic-line')"
   ]
  },
  {
   "cell_type": "code",
   "execution_count": null,
   "metadata": {},
   "outputs": [],
   "source": []
  }
 ],
 "metadata": {
  "kernelspec": {
   "display_name": "Python 3",
   "language": "python",
   "name": "python3"
  },
  "language_info": {
   "codemirror_mode": {
    "name": "ipython",
    "version": 3
   },
   "file_extension": ".py",
   "mimetype": "text/x-python",
   "name": "python",
   "nbconvert_exporter": "python",
   "pygments_lexer": "ipython3",
   "version": "3.5.2"
  }
 },
 "nbformat": 4,
 "nbformat_minor": 2
}
