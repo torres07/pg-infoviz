{
 "cells": [
  {
   "cell_type": "code",
   "execution_count": 2,
   "metadata": {},
   "outputs": [],
   "source": [
    "import numpy as np\n",
    "import pandas as pd\n",
    "# import plotly.plotly as py\n",
    "import plotly.graph_objs as go \n",
    "from plotly import tools\n",
    "from plotly.offline import download_plotlyjs, init_notebook_mode, plot, iplot as py\n",
    "import matplotlib.pyplot as plt\n",
    "\n",
    "from os import path\n",
    "\n",
    "data_path = 'data'"
   ]
  },
  {
   "cell_type": "code",
   "execution_count": 2,
   "metadata": {},
   "outputs": [
    {
     "data": {
      "text/html": [
       "        <script type=\"text/javascript\">\n",
       "        window.PlotlyConfig = {MathJaxConfig: 'local'};\n",
       "        if (window.MathJax) {MathJax.Hub.Config({SVG: {font: \"STIX-Web\"}});}\n",
       "        if (typeof require !== 'undefined') {\n",
       "        require.undef(\"plotly\");\n",
       "        requirejs.config({\n",
       "            paths: {\n",
       "                'plotly': ['https://cdn.plot.ly/plotly-latest.min']\n",
       "            }\n",
       "        });\n",
       "        require(['plotly'], function(Plotly) {\n",
       "            window._Plotly = Plotly;\n",
       "        });\n",
       "        }\n",
       "        </script>\n",
       "        "
      ]
     },
     "metadata": {},
     "output_type": "display_data"
    }
   ],
   "source": [
    "init_notebook_mode(connected=True)"
   ]
  },
  {
   "cell_type": "code",
   "execution_count": 3,
   "metadata": {},
   "outputs": [],
   "source": [
    "# List of SA countries\n",
    "sa_countries = ['Argentina', 'Bolivia', 'Brazil', 'Chile', 'Colombia', 'Ecuador', 'Guyana', 'Paraguay', 'Peru', 'Uruguay', 'Venezuela, RB', 'Suriname']"
   ]
  },
  {
   "cell_type": "code",
   "execution_count": 4,
   "metadata": {},
   "outputs": [],
   "source": [
    "def createWBDataFrame(path):\n",
    "    df = pd.read_csv(path, header=2, encoding='utf-8')\n",
    "    df = pd.merge(df, country_metadata, how='left', on=['Country Code'])\n",
    "    return df.drop(['Indicator Name', 'Unnamed: 63'], axis=1)\n",
    "\n",
    "def tideWBDataFrame(df):\n",
    "    df = pd.melt(df, id_vars=['Country Name', 'Country Code', 'Region', 'Indicator Code'], var_name='Year', value_name='observation')\n",
    "    df = pd.pivot_table(df, columns=['Indicator Code'], index=['Country Name', 'Country Code', 'Region', 'Year'], values='observation', aggfunc=np.mean)\n",
    "    return df.reset_index()\n",
    "\n",
    "def keepMetrics(df, metrics):\n",
    "    standard_columns = ['Country Name', 'Country Code', 'Region', 'Year']\n",
    "    return df.loc[:, standard_columns + metrics]"
   ]
  },
  {
   "cell_type": "code",
   "execution_count": 5,
   "metadata": {},
   "outputs": [],
   "source": [
    "country_metadata = pd.read_csv(path.join(data_path, 'GDP_BY_COUNTRY', 'Metadata_Country_API_NY.GDP.MKTP.CD_DS2_en_csv_v2_10515210.csv'))\n",
    "country_metadata.drop(['IncomeGroup', 'SpecialNotes', 'TableName', 'Unnamed: 5'], axis=1, inplace=True)\n",
    "\n",
    "social_env_path = path.join(data_path, 'SOCIAL_ENV_ECON_FACTORS_BY_COUNTRY')"
   ]
  },
  {
   "cell_type": "markdown",
   "metadata": {},
   "source": [
    "<h1><center>Extreme poverty</center></h1>"
   ]
  },
  {
   "cell_type": "code",
   "execution_count": 6,
   "metadata": {},
   "outputs": [],
   "source": [
    "extreme_poverty_by_country = createWBDataFrame(path.join(social_env_path, 'Environment', 'API_19_DS2_en_csv_v2_10515758.csv'))\n",
    "extreme_poverty_by_country = tideWBDataFrame(extreme_poverty_by_country)\n",
    "\n",
    "# Limiting data for the last 30 years\n",
    "extreme_poverty_by_country = extreme_poverty_by_country[(extreme_poverty_by_country['Year'] >= '2000') & (extreme_poverty_by_country['Year'] < '2018')]\n",
    "extreme_poverty_by_country = keepMetrics(extreme_poverty_by_country, ['SI.POV.DDAY','SP.POP.TOTL'])\n",
    "\n",
    "# Renaming observation columns\n",
    "extreme_poverty_by_country.rename(columns={'SI.POV.DDAY': 'Extreme Poverty(% pop)','SP.POP.TOTL': 'Total Pop.'}, inplace=True)\n",
    "extreme_poverty_by_country = extreme_poverty_by_country[extreme_poverty_by_country['Region'] == 'Latin America & Caribbean']\n",
    "extreme_poverty_by_country = extreme_poverty_by_country[extreme_poverty_by_country['Country Name'].isin(sa_countries)]"
   ]
  },
  {
   "cell_type": "code",
   "execution_count": 7,
   "metadata": {
    "scrolled": true
   },
   "outputs": [],
   "source": [
    "# extreme_poverty_by_country.head()"
   ]
  },
  {
   "cell_type": "markdown",
   "metadata": {},
   "source": [
    "## Education"
   ]
  },
  {
   "cell_type": "code",
   "execution_count": 8,
   "metadata": {},
   "outputs": [],
   "source": [
    "edbc_path = path.join(social_env_path, 'Education', 'API_4_DS2_en_csv_v2_10577018.csv')\n",
    "education_by_country = createWBDataFrame(edbc_path)\n",
    "education_by_country = tideWBDataFrame(education_by_country)\n",
    "education_by_country = keepMetrics(education_by_country, ['SE.PRM.CMPT.ZS', \n",
    "                                                          'SE.XPD.TOTL.GD.ZS',\n",
    "                                                          'SE.XPD.PRIM.PC.ZS',\n",
    "                                                          'SE.XPD.SECO.PC.ZS',\n",
    "                                                          'SE.XPD.TERT.PC.ZS',\n",
    "                                                          'SE.PRM.UNER.ZS',\n",
    "                                                          'SE.PRM.ENRL.TC.ZS', \n",
    "                                                          'SE.ADT.1524.LT.ZS', \n",
    "                                                          ])\n",
    "\n",
    "education_by_country.rename(columns={'SE.PRM.CMPT.ZS': 'Primary Completion Rate (% of relevant age group)', \n",
    "                                     'SE.XPD.PRIM.PC.ZS': 'Government expenditure per student, primary (% of GDP)',\n",
    "                                     'SE.XPD.SECO.PC.ZS': 'Government expenditure per student, secondary (% of GDP)',\n",
    "                                     'SE.XPD.TERT.PC.ZS': 'Government expenditure per student, tertiary (% of GDP)',\n",
    "                                     'SE.PRM.UNER.ZS': 'Children out of School(% primary school)',  \n",
    "                                     'SE.PRM.ENRL.TC.ZS': 'Pupil Teacher ratio', \n",
    "                                     'SE.ADT.1524.LT.ZS': 'Youth Literacy Rate 15-24 (% pop)', \n",
    "                                     'SE.XPD.TOTL.GD.ZS': 'Expenditure on Education (% of GDP)'}, inplace=True)\n",
    "education_by_country = education_by_country[(education_by_country['Year'] >= '2000') & (education_by_country['Year'] < '2018')]"
   ]
  },
  {
   "cell_type": "code",
   "execution_count": 9,
   "metadata": {
    "scrolled": true
   },
   "outputs": [],
   "source": [
    "# education_by_country = education_by_country[education_by_country['Region'] == 'Latin America & Caribbean']\n",
    "# education_by_country.head()"
   ]
  },
  {
   "cell_type": "code",
   "execution_count": 10,
   "metadata": {
    "scrolled": true
   },
   "outputs": [],
   "source": [
    "# education_by_country = education_by_country[education_by_country['Country Name'].isin(sa_countries)]\n",
    "# education_by_country.info()"
   ]
  },
  {
   "cell_type": "code",
   "execution_count": 11,
   "metadata": {
    "scrolled": true
   },
   "outputs": [],
   "source": [
    "# education_by_country[education_by_country['Country Name'] == 'Brazil'].head()"
   ]
  },
  {
   "cell_type": "code",
   "execution_count": 12,
   "metadata": {
    "scrolled": true
   },
   "outputs": [],
   "source": [
    "selected_sa_countries = ['Argentina', 'Brazil', 'Chile', 'Colombia']\n",
    "education_by_country_selected = education_by_country[education_by_country['Country Name'].isin(selected_sa_countries)]"
   ]
  },
  {
   "cell_type": "code",
   "execution_count": 13,
   "metadata": {},
   "outputs": [
    {
     "data": {
      "application/vnd.plotly.v1+json": {
       "config": {
        "linkText": "Export to plot.ly",
        "plotlyServerURL": "https://plot.ly",
        "responsive": true,
        "showLink": false
       },
       "data": [
        {
         "mode": "lines",
         "name": "Argentina",
         "type": "scatter",
         "uid": "97d586c2-93c5-4d83-a031-bf39cdbdfe06",
         "x": [
          "2000",
          "2001",
          "2002",
          "2003",
          "2004",
          "2005",
          "2006",
          "2007",
          "2008",
          "2009",
          "2010",
          "2011",
          "2012",
          "2013",
          "2014",
          "2015",
          "2016",
          "2017"
         ],
         "y": [
          4.580309867858889,
          4.833740234375,
          4.01734018325806,
          3.5350499153137203,
          3.4865200519561803,
          3.8600099086761497,
          4.12821006774902,
          4.46260023117065,
          4.8444099426269505,
          5.53105020523071,
          5.019710063934331,
          5.290629863739009,
          5.34582996368408,
          5.43661022186279,
          5.3614401817321795,
          5.776110172271731,
          5.57217979431152,
          5.57217979431152
         ]
        },
        {
         "mode": "lines",
         "name": "Brazil",
         "type": "scatter",
         "uid": "c9e35216-2e60-4489-bd6d-224beb17b75b",
         "x": [
          "2000",
          "2001",
          "2002",
          "2003",
          "2004",
          "2005",
          "2006",
          "2007",
          "2008",
          "2009",
          "2010",
          "2011",
          "2012",
          "2013",
          "2014",
          "2015",
          "2016",
          "2017"
         ],
         "y": [
          3.94893002510071,
          3.84468007087708,
          3.7503700256347696,
          3.7503700256347696,
          3.9744799137115496,
          4.47908020019531,
          4.87060022354126,
          4.97425985336304,
          5.26883983612061,
          5.4635500907897905,
          5.648799896240231,
          5.73741006851196,
          5.85510015487671,
          5.8388500213623,
          5.948480129241941,
          6.24105978012085,
          6.24105978012085,
          6.24105978012085
         ]
        },
        {
         "mode": "lines",
         "name": "Chile",
         "type": "scatter",
         "uid": "275a10d4-4a93-4ff5-9abe-e7e38edf2b0a",
         "x": [
          "2000",
          "2001",
          "2002",
          "2003",
          "2004",
          "2005",
          "2006",
          "2007",
          "2008",
          "2009",
          "2010",
          "2011",
          "2012",
          "2013",
          "2014",
          "2015",
          "2016",
          "2017"
         ],
         "y": [
          3.77583003044128,
          3.77583003044128,
          4.08121013641357,
          3.9634599685668905,
          3.5383899211883505,
          3.26283001899719,
          3.0215299129486097,
          3.2137899398803698,
          3.79242992401123,
          4.23064994812012,
          4.162089824676509,
          4.04518985748291,
          4.04518985748291,
          4.52942991256714,
          4.73017978668213,
          4.87370014190674,
          5.35063982009888,
          5.35063982009888
         ]
        },
        {
         "mode": "lines",
         "name": "Colombia",
         "type": "scatter",
         "uid": "a995d789-7417-40c9-89cd-a8a46dc446a7",
         "x": [
          "2000",
          "2001",
          "2002",
          "2003",
          "2004",
          "2005",
          "2006",
          "2007",
          "2008",
          "2009",
          "2010",
          "2011",
          "2012",
          "2013",
          "2014",
          "2015",
          "2016",
          "2017"
         ],
         "y": [
          3.5112099647522004,
          3.7086799144744904,
          4.26812982559204,
          4.325139999389649,
          4.079349994659419,
          3.9950098991394003,
          3.89332008361816,
          4.05870008468628,
          3.90980005264282,
          4.74742984771729,
          4.8261599540710405,
          4.45980978012085,
          4.38531017303467,
          4.90324020385742,
          4.665160179138179,
          4.50048017501831,
          4.52090978622437,
          4.399720191955571
         ]
        }
       ],
       "layout": {
        "title": {
         "text": "Expenditure on Education (% of GDP), 2000-2017"
        },
        "xaxis": {
         "tickangle": 45,
         "ticklen": 5,
         "tickmode": "array",
         "tickvals": [
          2000,
          2001,
          2002,
          2003,
          2004,
          2005,
          2006,
          2007,
          2008,
          2009,
          2010,
          2011,
          2012,
          2013,
          2014,
          2015,
          2016,
          2017
         ],
         "title": {
          "text": "Year"
         }
        },
        "yaxis": {
         "range": [
          0,
          7
         ],
         "ticksuffix": "% "
        }
       }
      },
      "text/html": [
       "<div>\n",
       "        \n",
       "        \n",
       "            <div id=\"77102464-d1b8-4ac9-9502-23d7ef75d0f0\" class=\"plotly-graph-div\"></div>\n",
       "            <script type=\"text/javascript\">\n",
       "                require([\"plotly\"], function(Plotly) {\n",
       "                    window.PLOTLYENV=window.PLOTLYENV || {};\n",
       "                    window.PLOTLYENV.BASE_URL='https://plot.ly';\n",
       "                    \n",
       "                if (document.getElementById(\"77102464-d1b8-4ac9-9502-23d7ef75d0f0\")) {\n",
       "                    Plotly.newPlot(\n",
       "                        '77102464-d1b8-4ac9-9502-23d7ef75d0f0',\n",
       "                        [{\"mode\": \"lines\", \"name\": \"Argentina\", \"type\": \"scatter\", \"uid\": \"b6cbfb3e-28b2-4528-bca1-b65d77447dac\", \"x\": [\"2000\", \"2001\", \"2002\", \"2003\", \"2004\", \"2005\", \"2006\", \"2007\", \"2008\", \"2009\", \"2010\", \"2011\", \"2012\", \"2013\", \"2014\", \"2015\", \"2016\", \"2017\"], \"y\": [4.580309867858889, 4.833740234375, 4.01734018325806, 3.5350499153137203, 3.4865200519561803, 3.8600099086761497, 4.12821006774902, 4.46260023117065, 4.8444099426269505, 5.53105020523071, 5.019710063934331, 5.290629863739009, 5.34582996368408, 5.43661022186279, 5.3614401817321795, 5.776110172271731, 5.57217979431152, 5.57217979431152]}, {\"mode\": \"lines\", \"name\": \"Brazil\", \"type\": \"scatter\", \"uid\": \"4eff42f7-ba6f-4270-a9d4-ac474b5925f9\", \"x\": [\"2000\", \"2001\", \"2002\", \"2003\", \"2004\", \"2005\", \"2006\", \"2007\", \"2008\", \"2009\", \"2010\", \"2011\", \"2012\", \"2013\", \"2014\", \"2015\", \"2016\", \"2017\"], \"y\": [3.94893002510071, 3.84468007087708, 3.7503700256347696, 3.7503700256347696, 3.9744799137115496, 4.47908020019531, 4.87060022354126, 4.97425985336304, 5.26883983612061, 5.4635500907897905, 5.648799896240231, 5.73741006851196, 5.85510015487671, 5.8388500213623, 5.948480129241941, 6.24105978012085, 6.24105978012085, 6.24105978012085]}, {\"mode\": \"lines\", \"name\": \"Chile\", \"type\": \"scatter\", \"uid\": \"779cddf7-92ae-496a-838a-b679ffcb0315\", \"x\": [\"2000\", \"2001\", \"2002\", \"2003\", \"2004\", \"2005\", \"2006\", \"2007\", \"2008\", \"2009\", \"2010\", \"2011\", \"2012\", \"2013\", \"2014\", \"2015\", \"2016\", \"2017\"], \"y\": [3.77583003044128, 3.77583003044128, 4.08121013641357, 3.9634599685668905, 3.5383899211883505, 3.26283001899719, 3.0215299129486097, 3.2137899398803698, 3.79242992401123, 4.23064994812012, 4.162089824676509, 4.04518985748291, 4.04518985748291, 4.52942991256714, 4.73017978668213, 4.87370014190674, 5.35063982009888, 5.35063982009888]}, {\"mode\": \"lines\", \"name\": \"Colombia\", \"type\": \"scatter\", \"uid\": \"8d42b85b-d1fb-4ba5-aec0-e226388ea3d3\", \"x\": [\"2000\", \"2001\", \"2002\", \"2003\", \"2004\", \"2005\", \"2006\", \"2007\", \"2008\", \"2009\", \"2010\", \"2011\", \"2012\", \"2013\", \"2014\", \"2015\", \"2016\", \"2017\"], \"y\": [3.5112099647522004, 3.7086799144744904, 4.26812982559204, 4.325139999389649, 4.079349994659419, 3.9950098991394003, 3.89332008361816, 4.05870008468628, 3.90980005264282, 4.74742984771729, 4.8261599540710405, 4.45980978012085, 4.38531017303467, 4.90324020385742, 4.665160179138179, 4.50048017501831, 4.52090978622437, 4.399720191955571]}],\n",
       "                        {\"title\": {\"text\": \"Expenditure on Education (% of GDP), 2000-2017\"}, \"xaxis\": {\"tickangle\": 45, \"ticklen\": 5, \"tickmode\": \"array\", \"tickvals\": [2000, 2001, 2002, 2003, 2004, 2005, 2006, 2007, 2008, 2009, 2010, 2011, 2012, 2013, 2014, 2015, 2016, 2017], \"title\": {\"text\": \"Year\"}}, \"yaxis\": {\"range\": [0, 7], \"ticksuffix\": \"% \"}},\n",
       "                        {\"showLink\": false, \"linkText\": \"Export to plot.ly\", \"plotlyServerURL\": \"https://plot.ly\", \"responsive\": true}\n",
       "                    )\n",
       "                };\n",
       "                });\n",
       "            </script>\n",
       "        </div>"
      ]
     },
     "metadata": {},
     "output_type": "display_data"
    }
   ],
   "source": [
    "layout = go.Layout( \n",
    "    xaxis = go.layout.XAxis(\n",
    "        tickmode='array',\n",
    "        tickvals=np.arange(2000, 2018, step=1),\n",
    "        tickangle=45,\n",
    "        title='Year',\n",
    "        ticklen=5\n",
    "    ),\n",
    "    yaxis = go.layout.YAxis(\n",
    "        ticksuffix='% ',\n",
    "        range=[0, 7]\n",
    "    ),\n",
    "    title='Expenditure on Education (% of GDP), 2000-2017'\n",
    ")\n",
    "\n",
    "fig = go.Figure(\n",
    "    layout=layout\n",
    ")\n",
    "        \n",
    "for country in education_by_country_selected['Country Name'].unique():\n",
    "    ext_pov_region = education_by_country_selected[education_by_country_selected['Country Name'] == country]\n",
    "    x = ext_pov_region['Year']\n",
    "    y = ext_pov_region['Expenditure on Education (% of GDP)'].fillna(method='ffill')\n",
    "    fig.add_scatter(x=x, y=y, name=country, mode='lines')\n",
    "    \n",
    "py(fig, filename='gdp-edu-line')"
   ]
  },
  {
   "cell_type": "code",
   "execution_count": 14,
   "metadata": {},
   "outputs": [],
   "source": [
    "def expenditure_edu_x_ext_poverty(country_name):\n",
    "    edu_by_region = education_by_country_selected[education_by_country_selected['Country Name'] == country_name]\n",
    "    ext_pov_by_region = extreme_poverty_by_country[extreme_poverty_by_country['Country Name'] == country_name]\n",
    "\n",
    "    trace1 = go.Scatter(\n",
    "        x=ext_pov_region['Year'],\n",
    "        y=edu_by_region['Expenditure on Education (% of GDP)'].fillna(method='ffill'),\n",
    "        name='Expenditure on Education',\n",
    "    )\n",
    "    \n",
    "    trace2 = go.Scatter(\n",
    "        x=ext_pov_region['Year'],\n",
    "        y=ext_pov_by_region['Extreme Poverty(% pop)'].fillna(method='ffill'),\n",
    "        name='Extreme Poverty',\n",
    "        yaxis='y2'\n",
    "    )\n",
    "\n",
    "    data = [trace1, trace2]\n",
    "\n",
    "    layout = go.Layout(\n",
    "        title='Expenditure on Education x Extreme Poverty on {}'.format(country_name),\n",
    "        yaxis=dict(\n",
    "            title='% GDP'\n",
    "        ),\n",
    "        yaxis2=dict(\n",
    "            title='% Population',\n",
    "            overlaying='y',\n",
    "            side='right'\n",
    "        ),\n",
    "        xaxis = go.layout.XAxis(\n",
    "            title='Year',\n",
    "            ticklen=5\n",
    "        ),\n",
    "    )\n",
    "    \n",
    "    fig = go.Figure(data=data, layout=layout)\n",
    "    return fig"
   ]
  },
  {
   "cell_type": "markdown",
   "metadata": {},
   "source": [
    "### Brazil"
   ]
  },
  {
   "cell_type": "code",
   "execution_count": 15,
   "metadata": {
    "scrolled": true
   },
   "outputs": [],
   "source": [
    "fig_brazil = expenditure_edu_x_ext_poverty('Brazil')\n",
    "# py(fig_brazil)"
   ]
  },
  {
   "cell_type": "markdown",
   "metadata": {},
   "source": [
    "### Argentina"
   ]
  },
  {
   "cell_type": "code",
   "execution_count": 16,
   "metadata": {
    "scrolled": true
   },
   "outputs": [],
   "source": [
    "fig_argentina = expenditure_edu_x_ext_poverty('Argentina')\n",
    "# py(fig_argentina)"
   ]
  },
  {
   "cell_type": "code",
   "execution_count": 1,
   "metadata": {
    "scrolled": false
   },
   "outputs": [
    {
     "ename": "NameError",
     "evalue": "name 'tools' is not defined",
     "output_type": "error",
     "traceback": [
      "\u001b[0;31m---------------------------------------------------------------------------\u001b[0m",
      "\u001b[0;31mNameError\u001b[0m                                 Traceback (most recent call last)",
      "\u001b[0;32m<ipython-input-1-d8a53c329ddb>\u001b[0m in \u001b[0;36m<module>\u001b[0;34m()\u001b[0m\n\u001b[1;32m      1\u001b[0m \u001b[0;31m# fig = go.Figure(layout=go.Layout(xaxis=dict(showline=False)))\u001b[0m\u001b[0;34m\u001b[0m\u001b[0;34m\u001b[0m\u001b[0m\n\u001b[1;32m      2\u001b[0m \u001b[0;34m\u001b[0m\u001b[0m\n\u001b[0;32m----> 3\u001b[0;31m fig = tools.make_subplots(\n\u001b[0m\u001b[1;32m      4\u001b[0m         \u001b[0mrows\u001b[0m\u001b[0;34m=\u001b[0m\u001b[0;36m2\u001b[0m\u001b[0;34m,\u001b[0m\u001b[0;34m\u001b[0m\u001b[0m\n\u001b[1;32m      5\u001b[0m         \u001b[0mcols\u001b[0m\u001b[0;34m=\u001b[0m\u001b[0;36m2\u001b[0m\u001b[0;34m,\u001b[0m\u001b[0;34m\u001b[0m\u001b[0m\n",
      "\u001b[0;31mNameError\u001b[0m: name 'tools' is not defined"
     ]
    }
   ],
   "source": [
    "# fig = go.Figure(layout=go.Layout(xaxis=dict(showline=False)))\n",
    "\n",
    "fig = tools.make_subplots(\n",
    "        rows=2, \n",
    "        cols=2, \n",
    "        subplot_titles=[str(c) for c in education_by_country_selected['Country Name'].unique()],\n",
    "        vertical_spacing=0.25,\n",
    "        horizontal_spacing=0.20)\n",
    "\n",
    "exp_education = []\n",
    "ext_pov = []\n",
    "\n",
    "for country_name in education_by_country_selected['Country Name'].unique():\n",
    "    \n",
    "    edu_by_region = education_by_country_selected[education_by_country_selected['Country Name'] == country_name]\n",
    "    ext_pov_by_region = extreme_poverty_by_country[extreme_poverty_by_country['Country Name'] == country_name]\n",
    "   \n",
    "    trace1 = go.Scatter(\n",
    "        x=ext_pov_region['Year'],\n",
    "        y=ext_pov_by_region['Extreme Poverty(% pop)'].fillna(method='ffill'),\n",
    "        name='Extreme Poverty',\n",
    "        mode='lines',\n",
    "        showlegend=False,\n",
    "        marker=go.scatter.Marker(color='darkorange'),\n",
    "        yaxis='y2',\n",
    "        hoverinfo='y',\n",
    "    )\n",
    "    \n",
    "    trace2 = go.Scatter(\n",
    "        x=ext_pov_region['Year'],\n",
    "        y=edu_by_region['Expenditure on Education (% of GDP)'].fillna(method='ffill'),\n",
    "        name='Expenditure on Education',\n",
    "        mode='lines',\n",
    "        showlegend=False,\n",
    "        marker=go.scatter.Marker(color='Blue'),\n",
    "        hoverinfo='y'\n",
    "    )\n",
    "\n",
    "    \n",
    "    exp_education.append(trace1)\n",
    "    ext_pov.append(trace2)\n",
    "\n",
    "for i in range(4):\n",
    "    col = i % 2 + 1\n",
    "    row = i // 2 + 1\n",
    "    \n",
    "    exp_education[0]['showlegend'] = True\n",
    "    ext_pov[0]['showlegend'] = True\n",
    "    \n",
    "    if i < 4:\n",
    "        fig.append_trace(exp_education[i], row, col)\n",
    "        fig.append_trace(ext_pov[i], row, col)\n",
    "        \n",
    "for i in range(4):\n",
    "    fig['data'][2*i+1].update(yaxis='y{one}'.format(one=5+i)) \n",
    "\n",
    "fig['layout'].update(go.Layout(\n",
    "                        title='Expenditure on Education by Extreme Poverty',\n",
    "                        height=600,\n",
    "                        width=1000,\n",
    "    \n",
    "                        xaxis1 = go.layout.XAxis(title='Year', tickmode='array', tickvals=np.arange(2000, 2018, step=5), ticklen=5),\n",
    "                        xaxis2 = go.layout.XAxis(title='Year', tickmode='array', tickvals=np.arange(2000, 2018, step=5), ticklen=5),\n",
    "                        xaxis3 = go.layout.XAxis(title='Year', tickmode='array', tickvals=np.arange(2000, 2018, step=5), ticklen=5),\n",
    "                        xaxis4 = go.layout.XAxis(title='Year', tickmode='array', tickvals=np.arange(2000, 2018, step=5), ticklen=5),\n",
    "                        \n",
    "                        yaxis1 = go.layout.YAxis(title='Pop. in Extreme Poverty (%)', range=[0, 15]),\n",
    "                        yaxis2 = go.layout.YAxis(title='Pop. in Extreme Poverty (%)', range=[0, 30]),\n",
    "                        yaxis3 = go.layout.YAxis(title='Pop. in Extreme Poverty (%)', range=[0, 15]),\n",
    "                        yaxis4 = go.layout.YAxis(title='Pop. in Extreme Poverty (%)', range=[0, 20]),\n",
    "                        \n",
    "                        yaxis5 = go.layout.YAxis(title='GDP (%)', overlaying='y1', anchor='x1', side='right', showgrid=False, range=[0,8]),\n",
    "                        yaxis6 = go.layout.YAxis(title='GDP (%)', overlaying='y2', anchor='x2', side='right', showgrid=False, range=[0,8]),\n",
    "                        yaxis7 = go.layout.YAxis(title='GDP (%)', overlaying='y3', anchor='x3', side='right', showgrid=False, range=[0,8]),\n",
    "                        yaxis8 = go.layout.YAxis(title='GDP (%)', overlaying='y4', anchor='x4', side='right', showgrid=False, range=[0,8]),\n",
    "                        \n",
    "                        )\n",
    "                    )\n",
    "\n",
    "py(fig)"
   ]
  },
  {
   "cell_type": "markdown",
   "metadata": {},
   "source": [
    "## Resources distribuition on Brazil"
   ]
  },
  {
   "cell_type": "code",
   "execution_count": 18,
   "metadata": {},
   "outputs": [],
   "source": [
    "x_years = ['2009', '2011', '2013', '2015']\n",
    "education_by_country_selected = education_by_country_selected[education_by_country_selected['Year'].isin(x_years)]"
   ]
  },
  {
   "cell_type": "code",
   "execution_count": 19,
   "metadata": {
    "scrolled": false
   },
   "outputs": [],
   "source": [
    "# years = 2011, 2013, 2015\n",
    "resources_dist_brazil = education_by_country[education_by_country['Country Name'] == 'Brazil']\n",
    "resources_dist_brazil = resources_dist_brazil[(resources_dist_brazil['Year'] == '2009') | (resources_dist_brazil['Year'] == '2011') | (resources_dist_brazil['Year'] == '2013') | (resources_dist_brazil['Year'] == '2015')]\n",
    "# resources_dist_brazil.head()"
   ]
  },
  {
   "cell_type": "code",
   "execution_count": 20,
   "metadata": {},
   "outputs": [
    {
     "name": "stdout",
     "output_type": "stream",
     "text": [
      "This is the format of your plot grid:\n",
      "[ (1,1) x1,y1 ]  [ (1,2) x2,y2 ]\n",
      "[ (2,1) x3,y3 ]  [ (2,2) x4,y4 ]\n",
      "\n"
     ]
    },
    {
     "data": {
      "application/vnd.plotly.v1+json": {
       "config": {
        "linkText": "Export to plot.ly",
        "plotlyServerURL": "https://plot.ly",
        "showLink": false
       },
       "data": [
        {
         "marker": {
          "color": "Blue"
         },
         "name": "Primary",
         "showlegend": true,
         "type": "bar",
         "uid": "1631d5da-d1ff-4bef-b8ba-70ff77ed832b",
         "x": [
          "2009",
          "2011",
          "2013",
          "2015"
         ],
         "xaxis": "x",
         "y": [
          14.802180290222198,
          14.2368898391724,
          14.437660217285199,
          15.707770347595199
         ],
         "yaxis": "y"
        },
        {
         "marker": {
          "color": "darkorange"
         },
         "name": "Secondary",
         "showlegend": true,
         "type": "bar",
         "uid": "bfce091d-cddf-43d3-b9c8-56161c93466b",
         "x": [
          "2009",
          "2011",
          "2013",
          "2015"
         ],
         "xaxis": "x",
         "y": [
          21.966060638427702,
          20.6811599731445,
          21.7600498199463,
          23.0128192901611
         ],
         "yaxis": "y"
        },
        {
         "marker": {
          "color": "Green"
         },
         "name": "Tertiary",
         "showlegend": true,
         "type": "bar",
         "uid": "7e63dcdd-e3dc-44d6-9afb-6b6ec817e459",
         "x": [
          "2009",
          "2011",
          "2013",
          "2015"
         ],
         "xaxis": "x",
         "y": [
          17.7919006347656,
          16.0812892913818,
          16.895189285278303,
          17.361469268798803
         ],
         "yaxis": "y"
        },
        {
         "marker": {
          "color": "Blue"
         },
         "name": "Primary",
         "showlegend": false,
         "type": "bar",
         "uid": "13d8e8f0-bcd0-4354-8153-b56519b92e30",
         "x": [
          "2009",
          "2011",
          "2013",
          "2015"
         ],
         "xaxis": "x2",
         "y": [
          19.7558708190918,
          20.2488098144531,
          19.7973899841309,
          20.2011394500732
         ],
         "yaxis": "y2"
        },
        {
         "marker": {
          "color": "darkorange"
         },
         "name": "Secondary",
         "showlegend": false,
         "type": "bar",
         "uid": "5daed600-543e-4145-a32a-3d6cde2c5878",
         "x": [
          "2009",
          "2011",
          "2013",
          "2015"
         ],
         "xaxis": "x2",
         "y": [
          20.1127490997314,
          21.9800701141357,
          20.713520050048803,
          21.6834506988525
         ],
         "yaxis": "y2"
        },
        {
         "marker": {
          "color": "Green"
         },
         "name": "Tertiary",
         "showlegend": false,
         "type": "bar",
         "uid": "5f1ce0a8-ee79-47cd-9997-95e64716094b",
         "x": [
          "2009",
          "2011",
          "2013",
          "2015"
         ],
         "xaxis": "x2",
         "y": [
          27.8409690856934,
          27.5774707794189,
          30.0209693908691,
          33.284069061279304
         ],
         "yaxis": "y2"
        },
        {
         "marker": {
          "color": "Blue"
         },
         "name": "Primary",
         "showlegend": false,
         "type": "bar",
         "uid": "5e5b0f65-b7d6-4ea0-bff5-f555a3683c1b",
         "x": [
          "2009",
          "2011",
          "2013",
          "2015"
         ],
         "xaxis": "x3",
         "y": [
          16.074630737304698,
          14.947130203247099,
          15.6901597976685,
          15.0078601837158
         ],
         "yaxis": "y3"
        },
        {
         "marker": {
          "color": "darkorange"
         },
         "name": "Secondary",
         "showlegend": false,
         "type": "bar",
         "uid": "34ef13e5-04b0-4aa6-8c99-021a79bdabc6",
         "x": [
          "2009",
          "2011",
          "2013",
          "2015"
         ],
         "xaxis": "x3",
         "y": [
          16.414909362793,
          15.0901403427124,
          14.925609588622999,
          16.440069198608402
         ],
         "yaxis": "y3"
        },
        {
         "marker": {
          "color": "Green"
         },
         "name": "Tertiary",
         "showlegend": false,
         "type": "bar",
         "uid": "7d5718f6-05e9-4fe9-b61d-8a4c3e36cc6d",
         "x": [
          "2009",
          "2011",
          "2013",
          "2015"
         ],
         "xaxis": "x3",
         "y": [
          12.677249908447301,
          14.244990348815902,
          17.2574596405029,
          18.1971492767334
         ],
         "yaxis": "y3"
        },
        {
         "marker": {
          "color": "Blue"
         },
         "name": "Primary",
         "showlegend": false,
         "type": "bar",
         "uid": "8658531d-8ab2-47b1-a0ed-c9ed9a0c8694",
         "x": [
          "2009",
          "2011",
          "2013",
          "2015"
         ],
         "xaxis": "x4",
         "y": [
          15.6267004013062,
          14.9525203704834,
          16.9695091247559,
          17.79541015625
         ],
         "yaxis": "y4"
        },
        {
         "marker": {
          "color": "darkorange"
         },
         "name": "Secondary",
         "showlegend": false,
         "type": "bar",
         "uid": "c6565359-d18e-4c89-9aac-a04e36146111",
         "x": [
          "2009",
          "2011",
          "2013",
          "2015"
         ],
         "xaxis": "x4",
         "y": [
          15.1228904724121,
          14.6258602142334,
          16.6014404296875,
          16.0305099487305
         ],
         "yaxis": "y4"
        },
        {
         "marker": {
          "color": "Green"
         },
         "name": "Tertiary",
         "showlegend": false,
         "type": "bar",
         "uid": "7afda1f0-242f-4a6e-8370-7ae57d181f7c",
         "x": [
          "2009",
          "2011",
          "2013",
          "2015"
         ],
         "xaxis": "x4",
         "y": [
          26.900680541992198,
          23.058349609375,
          19.509120941162102,
          20.2346591949463
         ],
         "yaxis": "y4"
        }
       ],
       "layout": {
        "annotations": [
         {
          "font": {
           "size": 16
          },
          "showarrow": false,
          "text": "Argentina",
          "x": 0.2,
          "xanchor": "center",
          "xref": "paper",
          "y": 1,
          "yanchor": "bottom",
          "yref": "paper"
         },
         {
          "font": {
           "size": 16
          },
          "showarrow": false,
          "text": "Brazil",
          "x": 0.8,
          "xanchor": "center",
          "xref": "paper",
          "y": 1,
          "yanchor": "bottom",
          "yref": "paper"
         },
         {
          "font": {
           "size": 16
          },
          "showarrow": false,
          "text": "Chile",
          "x": 0.2,
          "xanchor": "center",
          "xref": "paper",
          "y": 0.375,
          "yanchor": "bottom",
          "yref": "paper"
         },
         {
          "font": {
           "size": 16
          },
          "showarrow": false,
          "text": "Colombia",
          "x": 0.8,
          "xanchor": "center",
          "xref": "paper",
          "y": 0.375,
          "yanchor": "bottom",
          "yref": "paper"
         }
        ],
        "height": 600,
        "title": {
         "text": "Expenditure on Education by Extreme Poverty"
        },
        "width": 1000,
        "xaxis": {
         "anchor": "y",
         "domain": [
          0,
          0.4
         ],
         "ticklen": 5,
         "tickmode": "array",
         "title": {
          "text": "Year"
         }
        },
        "xaxis2": {
         "anchor": "y2",
         "domain": [
          0.6000000000000001,
          1
         ],
         "ticklen": 5,
         "tickmode": "array",
         "title": {
          "text": "Year"
         }
        },
        "xaxis3": {
         "anchor": "y3",
         "domain": [
          0,
          0.4
         ],
         "ticklen": 5,
         "tickmode": "array",
         "title": {
          "text": "Year"
         }
        },
        "xaxis4": {
         "anchor": "y4",
         "domain": [
          0.6000000000000001,
          1
         ],
         "ticklen": 5,
         "tickmode": "array",
         "title": {
          "text": "Year"
         }
        },
        "yaxis": {
         "anchor": "x",
         "domain": [
          0.625,
          1
         ],
         "range": [
          0,
          35
         ],
         "title": {
          "text": "GDP (%)"
         }
        },
        "yaxis2": {
         "anchor": "x2",
         "domain": [
          0.625,
          1
         ],
         "range": [
          0,
          35
         ],
         "title": {
          "text": "GDP (%)"
         }
        },
        "yaxis3": {
         "anchor": "x3",
         "domain": [
          0,
          0.375
         ],
         "range": [
          0,
          35
         ],
         "title": {
          "text": "GDP (%)"
         }
        },
        "yaxis4": {
         "anchor": "x4",
         "domain": [
          0,
          0.375
         ],
         "range": [
          0,
          35
         ],
         "title": {
          "text": "GDP (%)"
         }
        }
       }
      },
      "text/html": [
       "<div>\n",
       "        \n",
       "        \n",
       "            <div id=\"bf39ea81-26ea-4d16-ba30-b9e6570ae710\" class=\"plotly-graph-div\"></div>\n",
       "            <script type=\"text/javascript\">\n",
       "                require([\"plotly\"], function(Plotly) {\n",
       "                    window.PLOTLYENV=window.PLOTLYENV || {};\n",
       "                    window.PLOTLYENV.BASE_URL='https://plot.ly';\n",
       "                    \n",
       "                if (document.getElementById(\"bf39ea81-26ea-4d16-ba30-b9e6570ae710\")) {\n",
       "                    Plotly.newPlot(\n",
       "                        'bf39ea81-26ea-4d16-ba30-b9e6570ae710',\n",
       "                        [{\"marker\": {\"color\": \"Blue\"}, \"name\": \"Primary\", \"showlegend\": true, \"type\": \"bar\", \"uid\": \"afc921cd-375b-4419-ae0b-c91d798486e0\", \"x\": [\"2009\", \"2011\", \"2013\", \"2015\"], \"xaxis\": \"x\", \"y\": [14.802180290222198, 14.2368898391724, 14.437660217285199, 15.707770347595199], \"yaxis\": \"y\"}, {\"marker\": {\"color\": \"darkorange\"}, \"name\": \"Secondary\", \"showlegend\": true, \"type\": \"bar\", \"uid\": \"4e250651-0c69-49d0-a962-953520919a3d\", \"x\": [\"2009\", \"2011\", \"2013\", \"2015\"], \"xaxis\": \"x\", \"y\": [21.966060638427702, 20.6811599731445, 21.7600498199463, 23.0128192901611], \"yaxis\": \"y\"}, {\"marker\": {\"color\": \"Green\"}, \"name\": \"Tertiary\", \"showlegend\": true, \"type\": \"bar\", \"uid\": \"fdbd7816-ec1d-4f1f-a257-3a8b1bd2b2de\", \"x\": [\"2009\", \"2011\", \"2013\", \"2015\"], \"xaxis\": \"x\", \"y\": [17.7919006347656, 16.0812892913818, 16.895189285278303, 17.361469268798803], \"yaxis\": \"y\"}, {\"marker\": {\"color\": \"Blue\"}, \"name\": \"Primary\", \"showlegend\": false, \"type\": \"bar\", \"uid\": \"d970ce80-e923-409b-93a4-3ca56ab1eabb\", \"x\": [\"2009\", \"2011\", \"2013\", \"2015\"], \"xaxis\": \"x2\", \"y\": [19.7558708190918, 20.2488098144531, 19.7973899841309, 20.2011394500732], \"yaxis\": \"y2\"}, {\"marker\": {\"color\": \"darkorange\"}, \"name\": \"Secondary\", \"showlegend\": false, \"type\": \"bar\", \"uid\": \"7de08b2e-660d-4904-974a-6413dd468000\", \"x\": [\"2009\", \"2011\", \"2013\", \"2015\"], \"xaxis\": \"x2\", \"y\": [20.1127490997314, 21.9800701141357, 20.713520050048803, 21.6834506988525], \"yaxis\": \"y2\"}, {\"marker\": {\"color\": \"Green\"}, \"name\": \"Tertiary\", \"showlegend\": false, \"type\": \"bar\", \"uid\": \"18f36d6a-3e51-4f9d-b39f-1856ce6bb7c1\", \"x\": [\"2009\", \"2011\", \"2013\", \"2015\"], \"xaxis\": \"x2\", \"y\": [27.8409690856934, 27.5774707794189, 30.0209693908691, 33.284069061279304], \"yaxis\": \"y2\"}, {\"marker\": {\"color\": \"Blue\"}, \"name\": \"Primary\", \"showlegend\": false, \"type\": \"bar\", \"uid\": \"ca28cbd7-1184-4c5d-bf2e-a4af3334ac8d\", \"x\": [\"2009\", \"2011\", \"2013\", \"2015\"], \"xaxis\": \"x3\", \"y\": [16.074630737304698, 14.947130203247099, 15.6901597976685, 15.0078601837158], \"yaxis\": \"y3\"}, {\"marker\": {\"color\": \"darkorange\"}, \"name\": \"Secondary\", \"showlegend\": false, \"type\": \"bar\", \"uid\": \"8ac52ce7-1878-4a15-b618-fb0f4d631ac6\", \"x\": [\"2009\", \"2011\", \"2013\", \"2015\"], \"xaxis\": \"x3\", \"y\": [16.414909362793, 15.0901403427124, 14.925609588622999, 16.440069198608402], \"yaxis\": \"y3\"}, {\"marker\": {\"color\": \"Green\"}, \"name\": \"Tertiary\", \"showlegend\": false, \"type\": \"bar\", \"uid\": \"33bdcf26-48b7-4b69-bd3f-71ce501457b2\", \"x\": [\"2009\", \"2011\", \"2013\", \"2015\"], \"xaxis\": \"x3\", \"y\": [12.677249908447301, 14.244990348815902, 17.2574596405029, 18.1971492767334], \"yaxis\": \"y3\"}, {\"marker\": {\"color\": \"Blue\"}, \"name\": \"Primary\", \"showlegend\": false, \"type\": \"bar\", \"uid\": \"5b0610de-d9fa-4317-a111-9a5bbd6d8dcf\", \"x\": [\"2009\", \"2011\", \"2013\", \"2015\"], \"xaxis\": \"x4\", \"y\": [15.6267004013062, 14.9525203704834, 16.9695091247559, 17.79541015625], \"yaxis\": \"y4\"}, {\"marker\": {\"color\": \"darkorange\"}, \"name\": \"Secondary\", \"showlegend\": false, \"type\": \"bar\", \"uid\": \"d55a958e-833e-43f1-a4ae-632df433b7f3\", \"x\": [\"2009\", \"2011\", \"2013\", \"2015\"], \"xaxis\": \"x4\", \"y\": [15.1228904724121, 14.6258602142334, 16.6014404296875, 16.0305099487305], \"yaxis\": \"y4\"}, {\"marker\": {\"color\": \"Green\"}, \"name\": \"Tertiary\", \"showlegend\": false, \"type\": \"bar\", \"uid\": \"fa5d13d4-e8ad-4cbb-9796-5622abf33591\", \"x\": [\"2009\", \"2011\", \"2013\", \"2015\"], \"xaxis\": \"x4\", \"y\": [26.900680541992198, 23.058349609375, 19.509120941162102, 20.2346591949463], \"yaxis\": \"y4\"}],\n",
       "                        {\"annotations\": [{\"font\": {\"size\": 16}, \"showarrow\": false, \"text\": \"Argentina\", \"x\": 0.2, \"xanchor\": \"center\", \"xref\": \"paper\", \"y\": 1.0, \"yanchor\": \"bottom\", \"yref\": \"paper\"}, {\"font\": {\"size\": 16}, \"showarrow\": false, \"text\": \"Brazil\", \"x\": 0.8, \"xanchor\": \"center\", \"xref\": \"paper\", \"y\": 1.0, \"yanchor\": \"bottom\", \"yref\": \"paper\"}, {\"font\": {\"size\": 16}, \"showarrow\": false, \"text\": \"Chile\", \"x\": 0.2, \"xanchor\": \"center\", \"xref\": \"paper\", \"y\": 0.375, \"yanchor\": \"bottom\", \"yref\": \"paper\"}, {\"font\": {\"size\": 16}, \"showarrow\": false, \"text\": \"Colombia\", \"x\": 0.8, \"xanchor\": \"center\", \"xref\": \"paper\", \"y\": 0.375, \"yanchor\": \"bottom\", \"yref\": \"paper\"}], \"height\": 600, \"title\": {\"text\": \"Expenditure on Education by Extreme Poverty\"}, \"width\": 1000, \"xaxis\": {\"anchor\": \"y\", \"domain\": [0.0, 0.4], \"ticklen\": 5, \"tickmode\": \"array\", \"title\": {\"text\": \"Year\"}}, \"xaxis2\": {\"anchor\": \"y2\", \"domain\": [0.6000000000000001, 1.0], \"ticklen\": 5, \"tickmode\": \"array\", \"title\": {\"text\": \"Year\"}}, \"xaxis3\": {\"anchor\": \"y3\", \"domain\": [0.0, 0.4], \"ticklen\": 5, \"tickmode\": \"array\", \"title\": {\"text\": \"Year\"}}, \"xaxis4\": {\"anchor\": \"y4\", \"domain\": [0.6000000000000001, 1.0], \"ticklen\": 5, \"tickmode\": \"array\", \"title\": {\"text\": \"Year\"}}, \"yaxis\": {\"anchor\": \"x\", \"domain\": [0.625, 1.0], \"range\": [0, 35], \"title\": {\"text\": \"GDP (%)\"}}, \"yaxis2\": {\"anchor\": \"x2\", \"domain\": [0.625, 1.0], \"range\": [0, 35], \"title\": {\"text\": \"GDP (%)\"}}, \"yaxis3\": {\"anchor\": \"x3\", \"domain\": [0.0, 0.375], \"range\": [0, 35], \"title\": {\"text\": \"GDP (%)\"}}, \"yaxis4\": {\"anchor\": \"x4\", \"domain\": [0.0, 0.375], \"range\": [0, 35], \"title\": {\"text\": \"GDP (%)\"}}},\n",
       "                        {\"showLink\": false, \"linkText\": \"Export to plot.ly\", \"plotlyServerURL\": \"https://plot.ly\"}\n",
       "                    )\n",
       "                };\n",
       "                });\n",
       "            </script>\n",
       "        </div>"
      ]
     },
     "metadata": {},
     "output_type": "display_data"
    }
   ],
   "source": [
    "# fig = go.Figure(layout=go.Layout(xaxis=dict(showline=False)))\n",
    "\n",
    "fig = tools.make_subplots(\n",
    "        rows=2, \n",
    "        cols=2, \n",
    "        subplot_titles=[str(c) for c in education_by_country_selected['Country Name'].unique()],\n",
    "        vertical_spacing=0.25,\n",
    "        horizontal_spacing=0.20)\n",
    "\n",
    "primary = []\n",
    "secondary = []\n",
    "tertiary = []\n",
    "\n",
    "for country_name in education_by_country_selected['Country Name'].unique():\n",
    "    \n",
    "    edu_by_region = education_by_country_selected[education_by_country_selected['Country Name'] == country_name]\n",
    "    \n",
    "    \n",
    "    trace1 = go.Bar(\n",
    "        x=x_years,\n",
    "        y=edu_by_region['Government expenditure per student, primary (% of GDP)'],\n",
    "        name='Primary',\n",
    "        showlegend=False,\n",
    "        marker=go.bar.Marker(color='Blue'),\n",
    "    )\n",
    "    \n",
    "    trace2 = go.Bar(\n",
    "        x=x_years,\n",
    "        y=edu_by_region['Government expenditure per student, secondary (% of GDP)'],\n",
    "        name='Secondary',\n",
    "        showlegend=False,\n",
    "        marker=go.bar.Marker(color='darkorange'),\n",
    "    )\n",
    "\n",
    "    trace3 = go.Bar(\n",
    "        x=x_years,\n",
    "        y=edu_by_region['Government expenditure per student, tertiary (% of GDP)'],\n",
    "        name='Tertiary',\n",
    "        showlegend=False,\n",
    "        marker=go.bar.Marker(color='Green'),\n",
    "\n",
    "    )\n",
    "    \n",
    "    primary.append(trace1)\n",
    "    secondary.append(trace2)\n",
    "    tertiary.append(trace3)\n",
    "\n",
    "for i in range(4):\n",
    "    col = i % 2 + 1\n",
    "    row = i // 2 + 1\n",
    "    \n",
    "    primary[0]['showlegend'] = True\n",
    "    secondary[0]['showlegend'] = True\n",
    "    tertiary[0]['showlegend'] = True\n",
    "    \n",
    "    if i < 4:\n",
    "        fig.append_trace(primary[i], row, col)\n",
    "        fig.append_trace(secondary[i], row, col)\n",
    "        fig.append_trace(tertiary[i], row, col)\n",
    "        \n",
    "# for i in range(4):\n",
    "#     fig['data'][2*i+1].update(yaxis='y{one}'.format(one=5+i)) \n",
    "\n",
    "fig['layout'].update(go.Layout(\n",
    "                        title='Expenditure on Education by Extreme Poverty',\n",
    "                        height=600,\n",
    "                        width=1000,\n",
    "    \n",
    "                        xaxis1 = go.layout.XAxis(title='Year', tickmode='array', ticklen=5),\n",
    "                        xaxis2 = go.layout.XAxis(title='Year', tickmode='array', ticklen=5),\n",
    "                        xaxis3 = go.layout.XAxis(title='Year', tickmode='array', ticklen=5),\n",
    "                        xaxis4 = go.layout.XAxis(title='Year', tickmode='array', ticklen=5),\n",
    "                        \n",
    "                        yaxis1 = go.layout.YAxis(title='GDP (%)', range=[0, 35]),\n",
    "                        yaxis2 = go.layout.YAxis(title='GDP (%)', range=[0, 35]),\n",
    "                        yaxis3 = go.layout.YAxis(title='GDP (%)', range=[0, 35]),\n",
    "                        yaxis4 = go.layout.YAxis(title='GDP (%)', range=[0, 35]),\n",
    "                        \n",
    "#                         yaxis5 = go.layout.YAxis(title='GDP (%)', overlaying='y1', anchor='x1', side='right', showgrid=False, range=[0,8]),\n",
    "#                         yaxis6 = go.layout.YAxis(title='GDP (%)', overlaying='y2', anchor='x2', side='right', showgrid=False, range=[0,8]),\n",
    "#                         yaxis7 = go.layout.YAxis(title='GDP (%)', overlaying='y3', anchor='x3', side='right', showgrid=False, range=[0,8]),\n",
    "#                         yaxis8 = go.layout.YAxis(title='GDP (%)', overlaying='y4', anchor='x4', side='right', showgrid=False, range=[0,8]),\n",
    "                        \n",
    "                        )\n",
    "                    )\n",
    "\n",
    "py(fig)"
   ]
  },
  {
   "cell_type": "code",
   "execution_count": 21,
   "metadata": {
    "scrolled": true
   },
   "outputs": [],
   "source": [
    "# x_years = ['2009', '2011', '2013', '2015']\n",
    "\n",
    "# trace1 = go.Bar(\n",
    "#     x=x_years,\n",
    "#     y=resources_dist_brazil['Government expenditure per student, primary (% of GDP)'],\n",
    "#     name='Primary',\n",
    "# )\n",
    "# trace2 = go.Bar(\n",
    "#     x=x_years,\n",
    "#     y=resources_dist_brazil['Government expenditure per student, secondary (% of GDP)'],\n",
    "#     name='Secondary',\n",
    "# )\n",
    "\n",
    "# trace3 = go.Bar(\n",
    "#     x=x_years,\n",
    "#     y=resources_dist_brazil['Government expenditure per student, tertiary (% of GDP)'],\n",
    "#     name='Tertiary',\n",
    "# )\n",
    "\n",
    "# data = [trace1, trace2, trace3]\n",
    "# layout = go.Layout(\n",
    "#     title='Government expenditure per student by schollarity level on Brazil',\n",
    "#     barmode='group',\n",
    "#     yaxis = go.layout.YAxis(\n",
    "#         title='GDP (%)',\n",
    "#         ticksuffix='% '\n",
    "#     ),\n",
    "#     xaxis = go.layout.XAxis(\n",
    "#         title='Year'\n",
    "#     ),\n",
    "# )\n",
    "\n",
    "# fig = go.Figure(data=data, layout=layout)\n",
    "# py(fig, filename='resources-dist-brazil-edu')"
   ]
  },
  {
   "cell_type": "markdown",
   "metadata": {},
   "source": [
    "# Climate change"
   ]
  },
  {
   "cell_type": "code",
   "execution_count": 22,
   "metadata": {},
   "outputs": [],
   "source": [
    "env_path = path.join(social_env_path, 'Environment', 'API_19_DS2_en_csv_v2_10515758.csv')\n",
    "access_to_eletricity_by_country = createWBDataFrame(env_path)\n",
    "access_to_eletricity_by_country = tideWBDataFrame(access_to_eletricity_by_country)\n",
    "\n",
    "# Limiting data for the last 30 years\n",
    "access_to_eletricity_by_country = access_to_eletricity_by_country[access_to_eletricity_by_country['Year'] > '1980']\n",
    "access_to_eletricity_by_country = keepMetrics(access_to_eletricity_by_country, ['EG.ELC.ACCS.ZS', 'SH.DYN.MORT'])\n",
    "\n",
    "# Renaming observation columns\n",
    "access_to_eletricity_by_country.rename(columns={'EG.ELC.ACCS.ZS': 'Access to electricity (% of pop)',\n",
    "                                                'SH.DYN.MORT': 'Mortality rate, under-5 (per 1,000 live births)'\n",
    "                                               }, inplace=True)\n",
    "\n",
    "access_to_eletricity_by_country = access_to_eletricity_by_country[(access_to_eletricity_by_country['Year'] >= '2000') & (access_to_eletricity_by_country['Year'] < '2018')]\n",
    "access_to_eletricity_by_country = access_to_eletricity_by_country[access_to_eletricity_by_country['Region'] == 'Latin America & Caribbean']\n",
    "access_to_eletricity_by_country = access_to_eletricity_by_country[access_to_eletricity_by_country['Country Name'].isin(selected_sa_countries)]"
   ]
  },
  {
   "cell_type": "code",
   "execution_count": 23,
   "metadata": {
    "scrolled": true
   },
   "outputs": [],
   "source": [
    "# access_to_eletricity_by_country.head()"
   ]
  },
  {
   "cell_type": "code",
   "execution_count": 24,
   "metadata": {},
   "outputs": [],
   "source": [
    "access_by_region = access_to_eletricity_by_country[access_to_eletricity_by_country['Country Name'] == 'Chile']\n",
    "ext_pov_by_region = extreme_poverty_by_country[extreme_poverty_by_country['Country Name'] == 'Chile']\n",
    "\n",
    "trace1 = go.Scatter(\n",
    "    x=ext_pov_region['Year'],\n",
    "    y=access_by_region['Access to electricity (% of pop)'].fillna(method='ffill'),\n",
    "    name='Access to electricity'\n",
    ")\n",
    "trace2 = go.Scatter(\n",
    "    x=ext_pov_region['Year'],\n",
    "    y=ext_pov_by_region['Extreme Poverty(% pop)'].fillna(method='ffill'),\n",
    "    name='Extreme Poverty',\n",
    "    yaxis='y2'\n",
    ")\n",
    "\n",
    "data = [trace1, trace2]\n",
    "\n",
    "layout = go.Layout(\n",
    "    title='Access to electricity x Extreme Poverty on Brazil',\n",
    "    yaxis=dict(\n",
    "        title='% Population'\n",
    "    ),\n",
    "    yaxis2=dict(\n",
    "        title='% Population',\n",
    "        overlaying='y',\n",
    "        side='right'\n",
    "    ),\n",
    "    xaxis = go.layout.XAxis(\n",
    "        title='Year',\n",
    "    ),\n",
    ")\n",
    "fig_brazil = go.Figure(data=data, layout=layout)\n",
    "# py(fig_brazil, filename='gdp-edu-line')"
   ]
  },
  {
   "cell_type": "markdown",
   "metadata": {},
   "source": [
    "# Mortality rate"
   ]
  },
  {
   "cell_type": "code",
   "execution_count": 25,
   "metadata": {},
   "outputs": [
    {
     "data": {
      "application/vnd.plotly.v1+json": {
       "config": {
        "linkText": "Export to plot.ly",
        "plotlyServerURL": "https://plot.ly",
        "responsive": true,
        "showLink": false
       },
       "data": [
        {
         "mode": "lines",
         "name": "Argentina",
         "type": "scatter",
         "uid": "9ff4c470-0844-4a1a-b5e7-b1715d5f5792",
         "x": [
          "2000",
          "2001",
          "2002",
          "2003",
          "2004",
          "2005",
          "2006",
          "2007",
          "2008",
          "2009",
          "2010",
          "2011",
          "2012",
          "2013",
          "2014",
          "2015",
          "2016",
          "2017"
         ],
         "y": [
          19.8,
          19,
          18.3,
          17.6,
          17,
          16.5,
          16.1,
          15.7,
          15.4,
          15,
          14.5,
          13.9,
          13.3,
          12.7,
          12,
          11.4,
          10.9,
          10.4
         ]
        },
        {
         "mode": "lines",
         "name": "Brazil",
         "type": "scatter",
         "uid": "b67a5d7c-03b2-4ff3-b2a3-9b4b0f767b2b",
         "x": [
          "2000",
          "2001",
          "2002",
          "2003",
          "2004",
          "2005",
          "2006",
          "2007",
          "2008",
          "2009",
          "2010",
          "2011",
          "2012",
          "2013",
          "2014",
          "2015",
          "2016",
          "2017"
         ],
         "y": [
          34.7,
          32.5,
          30.5,
          28.5,
          26.6,
          24.9,
          23.3,
          21.9,
          20.7,
          19.6,
          18.7,
          17.9,
          17.3,
          16.7,
          16.2,
          15.7,
          16.3,
          14.8
         ]
        },
        {
         "mode": "lines",
         "name": "Chile",
         "type": "scatter",
         "uid": "4fae44a1-7a5c-4521-9cf0-a5683b4e5a5d",
         "x": [
          "2000",
          "2001",
          "2002",
          "2003",
          "2004",
          "2005",
          "2006",
          "2007",
          "2008",
          "2009",
          "2010",
          "2011",
          "2012",
          "2013",
          "2014",
          "2015",
          "2016",
          "2017"
         ],
         "y": [
          10.9,
          10.3,
          9.8,
          9.5,
          9.3,
          9.2,
          9.1,
          9.1,
          9.1,
          9,
          8.8,
          8.5,
          8.4,
          8.3,
          8.1,
          7.9,
          7.7,
          7.4
         ]
        },
        {
         "mode": "lines",
         "name": "Colombia",
         "type": "scatter",
         "uid": "78a33ef2-523a-493b-ab6b-8e9927ea77ed",
         "x": [
          "2000",
          "2001",
          "2002",
          "2003",
          "2004",
          "2005",
          "2006",
          "2007",
          "2008",
          "2009",
          "2010",
          "2011",
          "2012",
          "2013",
          "2014",
          "2015",
          "2016",
          "2017"
         ],
         "y": [
          25,
          24.3,
          23.6,
          22.9,
          22.3,
          21.6,
          21,
          20.4,
          19.8,
          19.1,
          18.5,
          18,
          17.4,
          16.8,
          16.2,
          15.7,
          15.2,
          14.7
         ]
        }
       ],
       "layout": {
        "title": {
         "text": "Mortality rate, under-5 (per 1,000 live births), 2000-2017"
        },
        "xaxis": {
         "tickangle": 45,
         "ticklen": 5,
         "tickmode": "array",
         "tickvals": [
          1990,
          1991,
          1992,
          1993,
          1994,
          1995,
          1996,
          1997,
          1998,
          1999,
          2000,
          2001,
          2002,
          2003,
          2004,
          2005,
          2006,
          2007,
          2008,
          2009,
          2010,
          2011,
          2012,
          2013,
          2014,
          2015,
          2016,
          2017
         ],
         "title": {
          "text": "Year"
         }
        },
        "yaxis": {
         "range": [
          0,
          40
         ],
         "ticksuffix": "% "
        }
       }
      },
      "text/html": [
       "<div>\n",
       "        \n",
       "        \n",
       "            <div id=\"fcd1dba3-4507-4ceb-ae1f-fc517f16b63e\" class=\"plotly-graph-div\"></div>\n",
       "            <script type=\"text/javascript\">\n",
       "                require([\"plotly\"], function(Plotly) {\n",
       "                    window.PLOTLYENV=window.PLOTLYENV || {};\n",
       "                    window.PLOTLYENV.BASE_URL='https://plot.ly';\n",
       "                    \n",
       "                if (document.getElementById(\"fcd1dba3-4507-4ceb-ae1f-fc517f16b63e\")) {\n",
       "                    Plotly.newPlot(\n",
       "                        'fcd1dba3-4507-4ceb-ae1f-fc517f16b63e',\n",
       "                        [{\"mode\": \"lines\", \"name\": \"Argentina\", \"type\": \"scatter\", \"uid\": \"c1f1194f-c3ea-4f48-aa9e-0471a99cda07\", \"x\": [\"2000\", \"2001\", \"2002\", \"2003\", \"2004\", \"2005\", \"2006\", \"2007\", \"2008\", \"2009\", \"2010\", \"2011\", \"2012\", \"2013\", \"2014\", \"2015\", \"2016\", \"2017\"], \"y\": [19.8, 19.0, 18.3, 17.6, 17.0, 16.5, 16.1, 15.7, 15.4, 15.0, 14.5, 13.9, 13.3, 12.7, 12.0, 11.4, 10.9, 10.4]}, {\"mode\": \"lines\", \"name\": \"Brazil\", \"type\": \"scatter\", \"uid\": \"7b6ac304-3ecb-4ce4-a3fb-2db011f9d3b8\", \"x\": [\"2000\", \"2001\", \"2002\", \"2003\", \"2004\", \"2005\", \"2006\", \"2007\", \"2008\", \"2009\", \"2010\", \"2011\", \"2012\", \"2013\", \"2014\", \"2015\", \"2016\", \"2017\"], \"y\": [34.7, 32.5, 30.5, 28.5, 26.6, 24.9, 23.3, 21.9, 20.7, 19.6, 18.7, 17.9, 17.3, 16.7, 16.2, 15.7, 16.3, 14.8]}, {\"mode\": \"lines\", \"name\": \"Chile\", \"type\": \"scatter\", \"uid\": \"6aa77f5b-8be4-4eda-b2fe-565151de18ef\", \"x\": [\"2000\", \"2001\", \"2002\", \"2003\", \"2004\", \"2005\", \"2006\", \"2007\", \"2008\", \"2009\", \"2010\", \"2011\", \"2012\", \"2013\", \"2014\", \"2015\", \"2016\", \"2017\"], \"y\": [10.9, 10.3, 9.8, 9.5, 9.3, 9.2, 9.1, 9.1, 9.1, 9.0, 8.8, 8.5, 8.4, 8.3, 8.1, 7.9, 7.7, 7.4]}, {\"mode\": \"lines\", \"name\": \"Colombia\", \"type\": \"scatter\", \"uid\": \"bae186be-eed7-4177-a226-e13de924aabd\", \"x\": [\"2000\", \"2001\", \"2002\", \"2003\", \"2004\", \"2005\", \"2006\", \"2007\", \"2008\", \"2009\", \"2010\", \"2011\", \"2012\", \"2013\", \"2014\", \"2015\", \"2016\", \"2017\"], \"y\": [25.0, 24.3, 23.6, 22.9, 22.3, 21.6, 21.0, 20.4, 19.8, 19.1, 18.5, 18.0, 17.4, 16.8, 16.2, 15.7, 15.2, 14.7]}],\n",
       "                        {\"title\": {\"text\": \"Mortality rate, under-5 (per 1,000 live births), 2000-2017\"}, \"xaxis\": {\"tickangle\": 45, \"ticklen\": 5, \"tickmode\": \"array\", \"tickvals\": [1990, 1991, 1992, 1993, 1994, 1995, 1996, 1997, 1998, 1999, 2000, 2001, 2002, 2003, 2004, 2005, 2006, 2007, 2008, 2009, 2010, 2011, 2012, 2013, 2014, 2015, 2016, 2017], \"title\": {\"text\": \"Year\"}}, \"yaxis\": {\"range\": [0, 40], \"ticksuffix\": \"% \"}},\n",
       "                        {\"showLink\": false, \"linkText\": \"Export to plot.ly\", \"plotlyServerURL\": \"https://plot.ly\", \"responsive\": true}\n",
       "                    )\n",
       "                };\n",
       "                });\n",
       "            </script>\n",
       "        </div>"
      ]
     },
     "metadata": {},
     "output_type": "display_data"
    }
   ],
   "source": [
    "layout = go.Layout( \n",
    "    xaxis = go.layout.XAxis(\n",
    "        tickmode='array',\n",
    "        tickvals=np.arange(1990, 2018, step=1),\n",
    "        tickangle=45,\n",
    "        title='Year',\n",
    "        ticklen=5\n",
    "    ),\n",
    "    yaxis = go.layout.YAxis(\n",
    "        range=[0, 40],\n",
    "        ticksuffix='% ',\n",
    "#         title='Mortality rate (%)'\n",
    "    ),\n",
    "    title='Mortality rate, under-5 (per 1,000 live births), 2000-2017'\n",
    ")\n",
    "\n",
    "fig = go.Figure(\n",
    "    layout=layout\n",
    ")\n",
    "        \n",
    "for country in access_to_eletricity_by_country['Country Name'].unique():\n",
    "    ate_region = access_to_eletricity_by_country[access_to_eletricity_by_country['Country Name'] == country]\n",
    "    x = ate_region['Year']\n",
    "    y = ate_region['Mortality rate, under-5 (per 1,000 live births)'].fillna(method='ffill')\n",
    "    fig.add_scatter(x=x, y=y, name=country, mode='lines')\n",
    "    \n",
    "py(fig, filename='gdp-edu-line')"
   ]
  },
  {
   "cell_type": "code",
   "execution_count": 26,
   "metadata": {
    "scrolled": true
   },
   "outputs": [],
   "source": [
    "# access_by_region = access_to_eletricity_by_country[access_to_eletricity_by_country['Country Name'] == 'Brazil']\n",
    "# ext_pov_by_region = extreme_poverty_by_country[extreme_poverty_by_country['Country Name'] == 'Brazil']\n",
    "\n",
    "# trace1 = go.Scatter(\n",
    "#     x=ext_pov_region['Year'],\n",
    "#     y=access_by_region['Mortality rate, under-5 (per 1,000 live births)'].fillna(method='ffill'),\n",
    "#     name='Mortality Rate'\n",
    "# )\n",
    "# trace2 = go.Scatter(\n",
    "#     x=ext_pov_region['Year'],\n",
    "#     y=ext_pov_by_region['Extreme Poverty(% pop)'].fillna(method='ffill'),\n",
    "#     name='Extreme Poverty',\n",
    "#     yaxis='y2'\n",
    "# )\n",
    "\n",
    "# data = [trace1, trace2]\n",
    "\n",
    "# layout = go.Layout(\n",
    "#     title='Mortality rate (under-5) x Extreme Poverty on Brazil',\n",
    "#     yaxis=dict(\n",
    "#         title='(under-5)'\n",
    "#     ),\n",
    "#     yaxis2=dict(\n",
    "#         title='% Population',\n",
    "#         overlaying='y',\n",
    "#         side='right'\n",
    "#     ),\n",
    "#     xaxis = go.layout.XAxis(\n",
    "#         title='Year',\n",
    "#     ),\n",
    "# )\n",
    "# fig_brazil = go.Figure(data=data, layout=layout)\n",
    "# py(fig_brazil, filename='gdp-edu-line')"
   ]
  },
  {
   "cell_type": "code",
   "execution_count": 30,
   "metadata": {},
   "outputs": [
    {
     "name": "stdout",
     "output_type": "stream",
     "text": [
      "This is the format of your plot grid:\n",
      "[ (1,1) x1,y1 ]  [ (1,2) x2,y2 ]\n",
      "[ (2,1) x3,y3 ]  [ (2,2) x4,y4 ]\n",
      "\n"
     ]
    },
    {
     "data": {
      "application/vnd.plotly.v1+json": {
       "config": {
        "linkText": "Export to plot.ly",
        "plotlyServerURL": "https://plot.ly",
        "showLink": false
       },
       "data": [
        {
         "hoverinfo": "y",
         "marker": {
          "color": "darkorange"
         },
         "mode": "lines",
         "name": "Extreme Poverty",
         "showlegend": true,
         "type": "scatter",
         "uid": "642183fb-b333-4187-9edb-706d6d299645",
         "x": [
          "2000",
          "2001",
          "2002",
          "2003",
          "2004",
          "2005",
          "2006",
          "2007",
          "2008",
          "2009",
          "2010",
          "2011",
          "2012",
          "2013",
          "2014",
          "2015",
          "2016",
          "2017"
         ],
         "xaxis": "x",
         "y": [
          5.7,
          9.4,
          14,
          7,
          5.4,
          3.9,
          3.3,
          2.9,
          2.6,
          2.6,
          1.1,
          0.9,
          0.8,
          0.8,
          0.7,
          0.7,
          0.6,
          0.4
         ],
         "yaxis": "y"
        },
        {
         "hoverinfo": "y",
         "marker": {
          "color": "Blue"
         },
         "mode": "lines",
         "name": "Mortality rate",
         "showlegend": true,
         "type": "scatter",
         "uid": "e918f4cf-6522-4981-8ce9-600e69d09c41",
         "x": [
          "2000",
          "2001",
          "2002",
          "2003",
          "2004",
          "2005",
          "2006",
          "2007",
          "2008",
          "2009",
          "2010",
          "2011",
          "2012",
          "2013",
          "2014",
          "2015",
          "2016",
          "2017"
         ],
         "xaxis": "x",
         "y": [
          19.8,
          19,
          18.3,
          17.6,
          17,
          16.5,
          16.1,
          15.7,
          15.4,
          15,
          14.5,
          13.9,
          13.3,
          12.7,
          12,
          11.4,
          10.9,
          10.4
         ],
         "yaxis": "y5"
        },
        {
         "hoverinfo": "y",
         "marker": {
          "color": "darkorange"
         },
         "mode": "lines",
         "name": "Extreme Poverty",
         "showlegend": false,
         "type": "scatter",
         "uid": "d6736ad3-6e3b-4486-aef5-eb37a9e131bf",
         "x": [
          "2000",
          "2001",
          "2002",
          "2003",
          "2004",
          "2005",
          "2006",
          "2007",
          "2008",
          "2009",
          "2010",
          "2011",
          "2012",
          "2013",
          "2014",
          "2015",
          "2016",
          "2017"
         ],
         "xaxis": "x2",
         "y": [
          null,
          11.6,
          10.3,
          11.1,
          9.7,
          8.6,
          7.2,
          6.8,
          5.6,
          5.4,
          5.4,
          4.7,
          3.8,
          3.8,
          2.8,
          3.4,
          4.3,
          4.8
         ],
         "yaxis": "y2"
        },
        {
         "hoverinfo": "y",
         "marker": {
          "color": "Blue"
         },
         "mode": "lines",
         "name": "Mortality rate",
         "showlegend": false,
         "type": "scatter",
         "uid": "2f479ac9-4210-4e21-b9a1-64a1ae306032",
         "x": [
          "2000",
          "2001",
          "2002",
          "2003",
          "2004",
          "2005",
          "2006",
          "2007",
          "2008",
          "2009",
          "2010",
          "2011",
          "2012",
          "2013",
          "2014",
          "2015",
          "2016",
          "2017"
         ],
         "xaxis": "x2",
         "y": [
          34.7,
          32.5,
          30.5,
          28.5,
          26.6,
          24.9,
          23.3,
          21.9,
          20.7,
          19.6,
          18.7,
          17.9,
          17.3,
          16.7,
          16.2,
          15.7,
          16.3,
          14.8
         ],
         "yaxis": "y6"
        },
        {
         "hoverinfo": "y",
         "marker": {
          "color": "darkorange"
         },
         "mode": "lines",
         "name": "Extreme Poverty",
         "showlegend": false,
         "type": "scatter",
         "uid": "8e6098b9-21e5-4d27-b26d-67b3da7cfb3e",
         "x": [
          "2000",
          "2001",
          "2002",
          "2003",
          "2004",
          "2005",
          "2006",
          "2007",
          "2008",
          "2009",
          "2010",
          "2011",
          "2012",
          "2013",
          "2014",
          "2015",
          "2016",
          "2017"
         ],
         "xaxis": "x3",
         "y": [
          4.4,
          4.4,
          4.4,
          4.2,
          4.2,
          4.2,
          2.4,
          2.4,
          2.4,
          2.6,
          2.6,
          1.6,
          1.6,
          0.9,
          0.9,
          1.3,
          1.3,
          0.7
         ],
         "yaxis": "y3"
        },
        {
         "hoverinfo": "y",
         "marker": {
          "color": "Blue"
         },
         "mode": "lines",
         "name": "Mortality rate",
         "showlegend": false,
         "type": "scatter",
         "uid": "6d68c9ad-f3dc-44ff-afed-c405d896727d",
         "x": [
          "2000",
          "2001",
          "2002",
          "2003",
          "2004",
          "2005",
          "2006",
          "2007",
          "2008",
          "2009",
          "2010",
          "2011",
          "2012",
          "2013",
          "2014",
          "2015",
          "2016",
          "2017"
         ],
         "xaxis": "x3",
         "y": [
          10.9,
          10.3,
          9.8,
          9.5,
          9.3,
          9.2,
          9.1,
          9.1,
          9.1,
          9,
          8.8,
          8.5,
          8.4,
          8.3,
          8.1,
          7.9,
          7.7,
          7.4
         ],
         "yaxis": "y7"
        },
        {
         "hoverinfo": "y",
         "marker": {
          "color": "darkorange"
         },
         "mode": "lines",
         "name": "Extreme Poverty",
         "showlegend": false,
         "type": "scatter",
         "uid": "6576a687-62a5-4fd7-a167-cfcb953d27d0",
         "x": [
          "2000",
          "2001",
          "2002",
          "2003",
          "2004",
          "2005",
          "2006",
          "2007",
          "2008",
          "2009",
          "2010",
          "2011",
          "2012",
          "2013",
          "2014",
          "2015",
          "2016",
          "2017"
         ],
         "xaxis": "x4",
         "y": [
          16.4,
          19.7,
          14.3,
          12,
          10.9,
          9.7,
          9.7,
          9.7,
          10.4,
          8.9,
          7.7,
          6.3,
          6.2,
          5.7,
          5,
          4.5,
          4.5,
          3.9
         ],
         "yaxis": "y4"
        },
        {
         "hoverinfo": "y",
         "marker": {
          "color": "Blue"
         },
         "mode": "lines",
         "name": "Mortality rate",
         "showlegend": false,
         "type": "scatter",
         "uid": "cfb92d9e-6bd2-432c-b3f4-56f2def1bfd3",
         "x": [
          "2000",
          "2001",
          "2002",
          "2003",
          "2004",
          "2005",
          "2006",
          "2007",
          "2008",
          "2009",
          "2010",
          "2011",
          "2012",
          "2013",
          "2014",
          "2015",
          "2016",
          "2017"
         ],
         "xaxis": "x4",
         "y": [
          25,
          24.3,
          23.6,
          22.9,
          22.3,
          21.6,
          21,
          20.4,
          19.8,
          19.1,
          18.5,
          18,
          17.4,
          16.8,
          16.2,
          15.7,
          15.2,
          14.7
         ],
         "yaxis": "y8"
        }
       ],
       "layout": {
        "annotations": [
         {
          "font": {
           "size": 16
          },
          "showarrow": false,
          "text": "Argentina",
          "x": 0.2,
          "xanchor": "center",
          "xref": "paper",
          "y": 1,
          "yanchor": "bottom",
          "yref": "paper"
         },
         {
          "font": {
           "size": 16
          },
          "showarrow": false,
          "text": "Brazil",
          "x": 0.8,
          "xanchor": "center",
          "xref": "paper",
          "y": 1,
          "yanchor": "bottom",
          "yref": "paper"
         },
         {
          "font": {
           "size": 16
          },
          "showarrow": false,
          "text": "Chile",
          "x": 0.2,
          "xanchor": "center",
          "xref": "paper",
          "y": 0.375,
          "yanchor": "bottom",
          "yref": "paper"
         },
         {
          "font": {
           "size": 16
          },
          "showarrow": false,
          "text": "Colombia",
          "x": 0.8,
          "xanchor": "center",
          "xref": "paper",
          "y": 0.375,
          "yanchor": "bottom",
          "yref": "paper"
         }
        ],
        "height": 600,
        "title": {
         "text": "Mortality rate, under-5 (per 1,000 live births) by Extreme Poverty"
        },
        "width": 1000,
        "xaxis": {
         "anchor": "y",
         "domain": [
          0,
          0.4
         ],
         "ticklen": 5,
         "tickmode": "array",
         "tickvals": [
          2000,
          2005,
          2010,
          2015
         ],
         "title": {
          "text": "Year"
         }
        },
        "xaxis2": {
         "anchor": "y2",
         "domain": [
          0.6000000000000001,
          1
         ],
         "ticklen": 5,
         "tickmode": "array",
         "tickvals": [
          2000,
          2005,
          2010,
          2015
         ],
         "title": {
          "text": "Year"
         }
        },
        "xaxis3": {
         "anchor": "y3",
         "domain": [
          0,
          0.4
         ],
         "ticklen": 5,
         "tickmode": "array",
         "tickvals": [
          2000,
          2005,
          2010,
          2015
         ],
         "title": {
          "text": "Year"
         }
        },
        "xaxis4": {
         "anchor": "y4",
         "domain": [
          0.6000000000000001,
          1
         ],
         "ticklen": 5,
         "tickmode": "array",
         "tickvals": [
          2000,
          2005,
          2010,
          2015
         ],
         "title": {
          "text": "Year"
         }
        },
        "yaxis": {
         "anchor": "x",
         "domain": [
          0.625,
          1
         ],
         "range": [
          0,
          15
         ],
         "title": {
          "text": "Pop. in Extreme Poverty (%)"
         }
        },
        "yaxis2": {
         "anchor": "x2",
         "domain": [
          0.625,
          1
         ],
         "range": [
          0,
          30
         ],
         "title": {
          "text": "Pop. in Extreme Poverty"
         }
        },
        "yaxis3": {
         "anchor": "x3",
         "domain": [
          0,
          0.375
         ],
         "range": [
          0,
          15
         ],
         "title": {
          "text": "Pop. in Extreme Poverty"
         }
        },
        "yaxis4": {
         "anchor": "x4",
         "domain": [
          0,
          0.375
         ],
         "range": [
          0,
          20
         ],
         "title": {
          "text": "Pop. in Extreme Poverty"
         }
        },
        "yaxis5": {
         "anchor": "x",
         "overlaying": "y",
         "range": [
          0,
          20
         ],
         "showgrid": false,
         "side": "right",
         "title": {
          "text": "Mortality rate (%)"
         }
        },
        "yaxis6": {
         "anchor": "x2",
         "overlaying": "y2",
         "range": [
          0,
          40
         ],
         "showgrid": false,
         "side": "right",
         "title": {
          "text": "Mortality rate (%)"
         }
        },
        "yaxis7": {
         "anchor": "x3",
         "overlaying": "y3",
         "range": [
          0,
          15
         ],
         "showgrid": false,
         "side": "right",
         "title": {
          "text": "Mortality rate (%)"
         }
        },
        "yaxis8": {
         "anchor": "x4",
         "overlaying": "y4",
         "range": [
          0,
          40
         ],
         "showgrid": false,
         "side": "right",
         "title": {
          "text": "Mortality rate (%)"
         }
        }
       }
      },
      "text/html": [
       "<div>\n",
       "        \n",
       "        \n",
       "            <div id=\"1084988b-a703-4b8a-8492-c6930f5e1d62\" class=\"plotly-graph-div\"></div>\n",
       "            <script type=\"text/javascript\">\n",
       "                require([\"plotly\"], function(Plotly) {\n",
       "                    window.PLOTLYENV=window.PLOTLYENV || {};\n",
       "                    window.PLOTLYENV.BASE_URL='https://plot.ly';\n",
       "                    \n",
       "                if (document.getElementById(\"1084988b-a703-4b8a-8492-c6930f5e1d62\")) {\n",
       "                    Plotly.newPlot(\n",
       "                        '1084988b-a703-4b8a-8492-c6930f5e1d62',\n",
       "                        [{\"hoverinfo\": \"y\", \"marker\": {\"color\": \"darkorange\"}, \"mode\": \"lines\", \"name\": \"Extreme Poverty\", \"showlegend\": true, \"type\": \"scatter\", \"uid\": \"6decf819-25b1-4c6c-af49-c798837db6e4\", \"x\": [\"2000\", \"2001\", \"2002\", \"2003\", \"2004\", \"2005\", \"2006\", \"2007\", \"2008\", \"2009\", \"2010\", \"2011\", \"2012\", \"2013\", \"2014\", \"2015\", \"2016\", \"2017\"], \"xaxis\": \"x\", \"y\": [5.7, 9.4, 14.0, 7.0, 5.4, 3.9, 3.3, 2.9, 2.6, 2.6, 1.1, 0.9, 0.8, 0.8, 0.7, 0.7, 0.6, 0.4], \"yaxis\": \"y\"}, {\"hoverinfo\": \"y\", \"marker\": {\"color\": \"Blue\"}, \"mode\": \"lines\", \"name\": \"Mortality rate\", \"showlegend\": true, \"type\": \"scatter\", \"uid\": \"c60140bc-e66a-486e-8b83-ff1ece3add3b\", \"x\": [\"2000\", \"2001\", \"2002\", \"2003\", \"2004\", \"2005\", \"2006\", \"2007\", \"2008\", \"2009\", \"2010\", \"2011\", \"2012\", \"2013\", \"2014\", \"2015\", \"2016\", \"2017\"], \"xaxis\": \"x\", \"y\": [19.8, 19.0, 18.3, 17.6, 17.0, 16.5, 16.1, 15.7, 15.4, 15.0, 14.5, 13.9, 13.3, 12.7, 12.0, 11.4, 10.9, 10.4], \"yaxis\": \"y5\"}, {\"hoverinfo\": \"y\", \"marker\": {\"color\": \"darkorange\"}, \"mode\": \"lines\", \"name\": \"Extreme Poverty\", \"showlegend\": false, \"type\": \"scatter\", \"uid\": \"2f2a8ad6-37ea-41ca-a7de-c3fd8bbf07b7\", \"x\": [\"2000\", \"2001\", \"2002\", \"2003\", \"2004\", \"2005\", \"2006\", \"2007\", \"2008\", \"2009\", \"2010\", \"2011\", \"2012\", \"2013\", \"2014\", \"2015\", \"2016\", \"2017\"], \"xaxis\": \"x2\", \"y\": [null, 11.6, 10.3, 11.1, 9.7, 8.6, 7.2, 6.8, 5.6, 5.4, 5.4, 4.7, 3.8, 3.8, 2.8, 3.4, 4.3, 4.8], \"yaxis\": \"y2\"}, {\"hoverinfo\": \"y\", \"marker\": {\"color\": \"Blue\"}, \"mode\": \"lines\", \"name\": \"Mortality rate\", \"showlegend\": false, \"type\": \"scatter\", \"uid\": \"1e3b5f6a-06a8-4647-8f86-1e52aa3d46fc\", \"x\": [\"2000\", \"2001\", \"2002\", \"2003\", \"2004\", \"2005\", \"2006\", \"2007\", \"2008\", \"2009\", \"2010\", \"2011\", \"2012\", \"2013\", \"2014\", \"2015\", \"2016\", \"2017\"], \"xaxis\": \"x2\", \"y\": [34.7, 32.5, 30.5, 28.5, 26.6, 24.9, 23.3, 21.9, 20.7, 19.6, 18.7, 17.9, 17.3, 16.7, 16.2, 15.7, 16.3, 14.8], \"yaxis\": \"y6\"}, {\"hoverinfo\": \"y\", \"marker\": {\"color\": \"darkorange\"}, \"mode\": \"lines\", \"name\": \"Extreme Poverty\", \"showlegend\": false, \"type\": \"scatter\", \"uid\": \"8d2b29df-a46b-4234-b159-0c9c356d92de\", \"x\": [\"2000\", \"2001\", \"2002\", \"2003\", \"2004\", \"2005\", \"2006\", \"2007\", \"2008\", \"2009\", \"2010\", \"2011\", \"2012\", \"2013\", \"2014\", \"2015\", \"2016\", \"2017\"], \"xaxis\": \"x3\", \"y\": [4.4, 4.4, 4.4, 4.2, 4.2, 4.2, 2.4, 2.4, 2.4, 2.6, 2.6, 1.6, 1.6, 0.9, 0.9, 1.3, 1.3, 0.7], \"yaxis\": \"y3\"}, {\"hoverinfo\": \"y\", \"marker\": {\"color\": \"Blue\"}, \"mode\": \"lines\", \"name\": \"Mortality rate\", \"showlegend\": false, \"type\": \"scatter\", \"uid\": \"f3edb4aa-86e1-4e2a-ae6a-5c37324e8ae2\", \"x\": [\"2000\", \"2001\", \"2002\", \"2003\", \"2004\", \"2005\", \"2006\", \"2007\", \"2008\", \"2009\", \"2010\", \"2011\", \"2012\", \"2013\", \"2014\", \"2015\", \"2016\", \"2017\"], \"xaxis\": \"x3\", \"y\": [10.9, 10.3, 9.8, 9.5, 9.3, 9.2, 9.1, 9.1, 9.1, 9.0, 8.8, 8.5, 8.4, 8.3, 8.1, 7.9, 7.7, 7.4], \"yaxis\": \"y7\"}, {\"hoverinfo\": \"y\", \"marker\": {\"color\": \"darkorange\"}, \"mode\": \"lines\", \"name\": \"Extreme Poverty\", \"showlegend\": false, \"type\": \"scatter\", \"uid\": \"5362163d-8112-454e-a4a4-39138c5a1c9a\", \"x\": [\"2000\", \"2001\", \"2002\", \"2003\", \"2004\", \"2005\", \"2006\", \"2007\", \"2008\", \"2009\", \"2010\", \"2011\", \"2012\", \"2013\", \"2014\", \"2015\", \"2016\", \"2017\"], \"xaxis\": \"x4\", \"y\": [16.4, 19.7, 14.3, 12.0, 10.9, 9.7, 9.7, 9.7, 10.4, 8.9, 7.7, 6.3, 6.2, 5.7, 5.0, 4.5, 4.5, 3.9], \"yaxis\": \"y4\"}, {\"hoverinfo\": \"y\", \"marker\": {\"color\": \"Blue\"}, \"mode\": \"lines\", \"name\": \"Mortality rate\", \"showlegend\": false, \"type\": \"scatter\", \"uid\": \"b038bff6-6fe3-4c09-bbbb-cc682e2d5bf6\", \"x\": [\"2000\", \"2001\", \"2002\", \"2003\", \"2004\", \"2005\", \"2006\", \"2007\", \"2008\", \"2009\", \"2010\", \"2011\", \"2012\", \"2013\", \"2014\", \"2015\", \"2016\", \"2017\"], \"xaxis\": \"x4\", \"y\": [25.0, 24.3, 23.6, 22.9, 22.3, 21.6, 21.0, 20.4, 19.8, 19.1, 18.5, 18.0, 17.4, 16.8, 16.2, 15.7, 15.2, 14.7], \"yaxis\": \"y8\"}],\n",
       "                        {\"annotations\": [{\"font\": {\"size\": 16}, \"showarrow\": false, \"text\": \"Argentina\", \"x\": 0.2, \"xanchor\": \"center\", \"xref\": \"paper\", \"y\": 1.0, \"yanchor\": \"bottom\", \"yref\": \"paper\"}, {\"font\": {\"size\": 16}, \"showarrow\": false, \"text\": \"Brazil\", \"x\": 0.8, \"xanchor\": \"center\", \"xref\": \"paper\", \"y\": 1.0, \"yanchor\": \"bottom\", \"yref\": \"paper\"}, {\"font\": {\"size\": 16}, \"showarrow\": false, \"text\": \"Chile\", \"x\": 0.2, \"xanchor\": \"center\", \"xref\": \"paper\", \"y\": 0.375, \"yanchor\": \"bottom\", \"yref\": \"paper\"}, {\"font\": {\"size\": 16}, \"showarrow\": false, \"text\": \"Colombia\", \"x\": 0.8, \"xanchor\": \"center\", \"xref\": \"paper\", \"y\": 0.375, \"yanchor\": \"bottom\", \"yref\": \"paper\"}], \"height\": 600, \"title\": {\"text\": \"Mortality rate, under-5 (per 1,000 live births) by Extreme Poverty\"}, \"width\": 1000, \"xaxis\": {\"anchor\": \"y\", \"domain\": [0.0, 0.4], \"ticklen\": 5, \"tickmode\": \"array\", \"tickvals\": [2000, 2005, 2010, 2015], \"title\": {\"text\": \"Year\"}}, \"xaxis2\": {\"anchor\": \"y2\", \"domain\": [0.6000000000000001, 1.0], \"ticklen\": 5, \"tickmode\": \"array\", \"tickvals\": [2000, 2005, 2010, 2015], \"title\": {\"text\": \"Year\"}}, \"xaxis3\": {\"anchor\": \"y3\", \"domain\": [0.0, 0.4], \"ticklen\": 5, \"tickmode\": \"array\", \"tickvals\": [2000, 2005, 2010, 2015], \"title\": {\"text\": \"Year\"}}, \"xaxis4\": {\"anchor\": \"y4\", \"domain\": [0.6000000000000001, 1.0], \"ticklen\": 5, \"tickmode\": \"array\", \"tickvals\": [2000, 2005, 2010, 2015], \"title\": {\"text\": \"Year\"}}, \"yaxis\": {\"anchor\": \"x\", \"domain\": [0.625, 1.0], \"range\": [0, 15], \"title\": {\"text\": \"Pop. in Extreme Poverty (%)\"}}, \"yaxis2\": {\"anchor\": \"x2\", \"domain\": [0.625, 1.0], \"range\": [0, 30], \"title\": {\"text\": \"Pop. in Extreme Poverty\"}}, \"yaxis3\": {\"anchor\": \"x3\", \"domain\": [0.0, 0.375], \"range\": [0, 15], \"title\": {\"text\": \"Pop. in Extreme Poverty\"}}, \"yaxis4\": {\"anchor\": \"x4\", \"domain\": [0.0, 0.375], \"range\": [0, 20], \"title\": {\"text\": \"Pop. in Extreme Poverty\"}}, \"yaxis5\": {\"anchor\": \"x\", \"overlaying\": \"y\", \"range\": [0, 20], \"showgrid\": false, \"side\": \"right\", \"title\": {\"text\": \"Mortality rate (%)\"}}, \"yaxis6\": {\"anchor\": \"x2\", \"overlaying\": \"y2\", \"range\": [0, 40], \"showgrid\": false, \"side\": \"right\", \"title\": {\"text\": \"Mortality rate (%)\"}}, \"yaxis7\": {\"anchor\": \"x3\", \"overlaying\": \"y3\", \"range\": [0, 15], \"showgrid\": false, \"side\": \"right\", \"title\": {\"text\": \"Mortality rate (%)\"}}, \"yaxis8\": {\"anchor\": \"x4\", \"overlaying\": \"y4\", \"range\": [0, 40], \"showgrid\": false, \"side\": \"right\", \"title\": {\"text\": \"Mortality rate (%)\"}}},\n",
       "                        {\"showLink\": false, \"linkText\": \"Export to plot.ly\", \"plotlyServerURL\": \"https://plot.ly\"}\n",
       "                    )\n",
       "                };\n",
       "                });\n",
       "            </script>\n",
       "        </div>"
      ]
     },
     "metadata": {},
     "output_type": "display_data"
    }
   ],
   "source": [
    "fig = tools.make_subplots(\n",
    "        rows=2, \n",
    "        cols=2, \n",
    "        subplot_titles=[str(c) for c in access_to_eletricity_by_country['Country Name'].unique()],\n",
    "        vertical_spacing=0.25,\n",
    "        horizontal_spacing=0.20)\n",
    "\n",
    "mortality_rate = []\n",
    "ext_pov = []\n",
    "\n",
    "for country_name in access_to_eletricity_by_country['Country Name'].unique():\n",
    "    \n",
    "    mortal_by_region = access_to_eletricity_by_country[access_to_eletricity_by_country['Country Name'] == country_name]\n",
    "    ext_pov_by_region = extreme_poverty_by_country[extreme_poverty_by_country['Country Name'] == country_name]\n",
    "    \n",
    "    trace1 = go.Scatter(\n",
    "        x=ext_pov_region['Year'],\n",
    "        y=ext_pov_by_region['Extreme Poverty(% pop)'].fillna(method='ffill'),\n",
    "        name='Extreme Poverty',\n",
    "        mode='lines',\n",
    "        showlegend=False,\n",
    "        marker=go.scatter.Marker(color='darkorange'),\n",
    "        yaxis='y2',\n",
    "        hoverinfo='y',\n",
    "    )\n",
    "\n",
    "    trace2 = go.Scatter(\n",
    "        x=ext_pov_region['Year'],\n",
    "        y=mortal_by_region['Mortality rate, under-5 (per 1,000 live births)'].fillna(method='ffill'),\n",
    "        name='Mortality rate',\n",
    "        mode='lines',\n",
    "        showlegend=False,\n",
    "        marker=go.scatter.Marker(color='Blue'),\n",
    "        hoverinfo='y'\n",
    "    )\n",
    "    \n",
    "    mortality_rate.append(trace1)\n",
    "    ext_pov.append(trace2)\n",
    "\n",
    "for i in range(4):\n",
    "    col = i % 2 + 1\n",
    "    row = i // 2 + 1\n",
    "    \n",
    "    mortality_rate[0]['showlegend'] = True\n",
    "    ext_pov[0]['showlegend'] = True\n",
    "\n",
    "    fig.append_trace(mortality_rate[i], row, col)\n",
    "    fig.append_trace(ext_pov[i], row, col)\n",
    "        \n",
    "for i in range(4):\n",
    "    fig['data'][2*i+1].update(yaxis='y{one}'.format(one=5+i)) \n",
    "\n",
    "fig['layout'].update(go.Layout(\n",
    "                        title=go.layout.Title(text='Mortality rate, under-5 (per 1,000 live births) by Extreme Poverty'),\n",
    "                        height=600,\n",
    "                        width=1000,\n",
    "    \n",
    "                        xaxis1 = go.layout.XAxis(title='Year', tickmode='array', tickvals=np.arange(2000, 2018, step=5), ticklen=5),\n",
    "                        xaxis2 = go.layout.XAxis(title='Year', tickmode='array', tickvals=np.arange(2000, 2018, step=5), ticklen=5),\n",
    "                        xaxis3 = go.layout.XAxis(title='Year', tickmode='array', tickvals=np.arange(2000, 2018, step=5), ticklen=5),\n",
    "                        xaxis4 = go.layout.XAxis(title='Year', tickmode='array', tickvals=np.arange(2000, 2018, step=5), ticklen=5),\n",
    "                        \n",
    "                        yaxis1 = go.layout.YAxis(title='Pop. in Extreme Poverty (%)', range=[0, 15]),\n",
    "                        yaxis2 = go.layout.YAxis(title='Pop. in Extreme Poverty', range=[0, 30]),\n",
    "                        yaxis3 = go.layout.YAxis(title='Pop. in Extreme Poverty', range=[0, 15]),\n",
    "                        yaxis4 = go.layout.YAxis(title='Pop. in Extreme Poverty', range=[0, 20]),\n",
    "                        \n",
    "                        yaxis5 = go.layout.YAxis(title='Mortality rate (%)', overlaying='y1', anchor='x1', side='right', showgrid=False, range=[0, 20]),\n",
    "                        yaxis6 = go.layout.YAxis(title='Mortality rate (%)', overlaying='y2', anchor='x2', side='right', showgrid=False, range=[0, 40]),\n",
    "                        yaxis7 = go.layout.YAxis(title='Mortality rate (%)', overlaying='y3', anchor='x3', side='right', showgrid=False, range=[0, 15]),\n",
    "                        yaxis8 = go.layout.YAxis(title='Mortality rate (%)', overlaying='y4', anchor='x4', side='right', showgrid=False, range=[0, 40]),\n",
    "                        \n",
    "                        )\n",
    "                    )\n",
    "\n",
    "py(fig)"
   ]
  },
  {
   "cell_type": "code",
   "execution_count": null,
   "metadata": {},
   "outputs": [],
   "source": []
  }
 ],
 "metadata": {
  "kernelspec": {
   "display_name": "Python 3",
   "language": "python",
   "name": "python3"
  },
  "language_info": {
   "codemirror_mode": {
    "name": "ipython",
    "version": 3
   },
   "file_extension": ".py",
   "mimetype": "text/x-python",
   "name": "python",
   "nbconvert_exporter": "python",
   "pygments_lexer": "ipython3",
   "version": "3.5.2"
  }
 },
 "nbformat": 4,
 "nbformat_minor": 2
}
